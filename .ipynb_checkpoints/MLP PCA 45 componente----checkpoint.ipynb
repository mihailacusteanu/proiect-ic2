{
 "cells": [
  {
   "cell_type": "markdown",
   "metadata": {},
   "source": [
    "<h1><center>Proiect IC2</center></h1>\n"
   ]
  },
  {
   "cell_type": "markdown",
   "metadata": {},
   "source": [
    "#### Studenti:"
   ]
  },
  {
   "cell_type": "markdown",
   "metadata": {},
   "source": [
    "###  Mihai Lacusteanu"
   ]
  },
  {
   "cell_type": "markdown",
   "metadata": {},
   "source": [
    "### Alexandru-Florian Ion "
   ]
  },
  {
   "cell_type": "markdown",
   "metadata": {},
   "source": [
    " "
   ]
  },
  {
   "cell_type": "markdown",
   "metadata": {},
   "source": [
    " "
   ]
  },
  {
   "cell_type": "markdown",
   "metadata": {},
   "source": [
    "#### Profesor: "
   ]
  },
  {
   "cell_type": "markdown",
   "metadata": {},
   "source": [
    "### Victor-Emil Neagoe"
   ]
  },
  {
   "cell_type": "markdown",
   "metadata": {},
   "source": [
    " "
   ]
  },
  {
   "cell_type": "markdown",
   "metadata": {},
   "source": [
    " "
   ]
  },
  {
   "cell_type": "markdown",
   "metadata": {},
   "source": [
    " "
   ]
  },
  {
   "cell_type": "markdown",
   "metadata": {
    "collapsed": true
   },
   "source": [
    "  "
   ]
  },
  {
   "cell_type": "markdown",
   "metadata": {},
   "source": [
    "### Importare biblioteci necesare"
   ]
  },
  {
   "cell_type": "markdown",
   "metadata": {},
   "source": [
    " "
   ]
  },
  {
   "cell_type": "code",
   "execution_count": 1,
   "metadata": {},
   "outputs": [
    {
     "name": "stderr",
     "output_type": "stream",
     "text": [
      "Using TensorFlow backend.\n"
     ]
    }
   ],
   "source": [
    "import numpy as np\n",
    "import pandas as pd\n",
    "\n",
    "from sklearn.preprocessing import StandardScaler\n",
    "from sklearn.decomposition import PCA\n",
    "\n",
    "from keras.models import Sequential\n",
    "from keras.utils import np_utils\n",
    "from keras.layers import Dense, Dropout, GaussianNoise, Conv1D\n",
    "from keras.preprocessing.image import ImageDataGenerator\n",
    "\n",
    "import matplotlib.pyplot as plt\n",
    "import seaborn as sns\n",
    "%matplotlib inline\n",
    "from keras.datasets import mnist\n",
    "import random"
   ]
  },
  {
   "cell_type": "markdown",
   "metadata": {},
   "source": [
    "### Citirea datelor (fisiere .csv)"
   ]
  },
  {
   "cell_type": "code",
   "execution_count": 2,
   "metadata": {
    "collapsed": true
   },
   "outputs": [],
   "source": [
    "test = pd.read_csv('test.csv')\n",
    "train = pd.read_csv('train.csv')"
   ]
  },
  {
   "cell_type": "markdown",
   "metadata": {},
   "source": [
    " "
   ]
  },
  {
   "cell_type": "markdown",
   "metadata": {},
   "source": [
    " "
   ]
  },
  {
   "cell_type": "markdown",
   "metadata": {},
   "source": [
    "### Prelucrarea datelor pentru a putea fi introduse in reteaua MLP"
   ]
  },
  {
   "cell_type": "code",
   "execution_count": 3,
   "metadata": {
    "collapsed": true
   },
   "outputs": [],
   "source": [
    "Y_train = train['label'].values.astype('int32')\n",
    "Y_train = np_utils.to_categorical(Y_train) \n",
    "train.drop(['label'], axis=1, inplace=True)\n",
    "\n",
    "X_train = (train.values).astype('float32')\n",
    "X_test = (test.values).astype('float32')\n",
    "\n",
    "\n",
    "# Codul de mai sus poate fi usor inlocuit cu urmatoarea comanda pe care o vom demonstra in exemplul cu MLP\n",
    "# (X_train, Y_train), (X_test, Y_test) = mnist.load_data() \n",
    "\n",
    "\n",
    "scaler = StandardScaler()\n",
    "scaler.fit(X_train)\n",
    "X_sc_train = scaler.transform(X_train)\n",
    "X_sc_test = scaler.transform(X_test)"
   ]
  },
  {
   "cell_type": "markdown",
   "metadata": {},
   "source": [
    " "
   ]
  },
  {
   "cell_type": "markdown",
   "metadata": {},
   "source": [
    " "
   ]
  },
  {
   "cell_type": "code",
   "execution_count": 4,
   "metadata": {},
   "outputs": [
    {
     "name": "stdout",
     "output_type": "stream",
     "text": [
      "Y_train are formatul: [1. 0. 0. 0. 0. 0. 0. 0. 0. 0.]\n",
      "Se pune 1 in dreptul cifrei corecte.\n",
      "Spre exemplu mai sus avem o iesire corespunzatoare cifrei 0\n"
     ]
    },
    {
     "data": {
      "image/png": "[encoded data removed]",
      "text/plain": [
       "<matplotlib.figure.Figure at 0x1249faf28>"
      ]
     },
     "metadata": {},
     "output_type": "display_data"
    }
   ],
   "source": [
    "print('Y_train are formatul: {}'.format(Y_train[1]))\n",
    "print('Se pune 1 in dreptul cifrei corecte.')\n",
    "print('Spre exemplu mai sus avem o iesire corespunzatoare cifrei 0')\n",
    "plt.imshow(X_train[1].reshape(28,28))\n",
    "plt.show()"
   ]
  },
  {
   "cell_type": "markdown",
   "metadata": {},
   "source": [
    "### Aproximare numar componente PCA"
   ]
  },
  {
   "cell_type": "code",
   "execution_count": 5,
   "metadata": {},
   "outputs": [
    {
     "data": {
      "text/plain": [
       "<matplotlib.text.Text at 0x126c46390>"
      ]
     },
     "execution_count": 5,
     "metadata": {},
     "output_type": "execute_result"
    },
    {
     "data": {
      "image/png": "[encoded data removed]",
      "text/plain": [
       "<matplotlib.figure.Figure at 0x126c76780>"
      ]
     },
     "metadata": {},
     "output_type": "display_data"
    }
   ],
   "source": [
    "pca = PCA(n_components=500)\n",
    "pca.fit(X_train)\n",
    "\n",
    "plt.plot(np.cumsum(pca.explained_variance_ratio_))\n",
    "plt.xlabel('Numar de componente')\n",
    "plt.ylabel('Varianta')"
   ]
  },
  {
   "cell_type": "markdown",
   "metadata": {
    "collapsed": true
   },
   "source": [
    " ##### Observam mai sus ca 100 de componente ar fi o valoare decenta a micsora volumul de calcule si in acelasi timp pentru a avea o acuratete mare"
   ]
  },
  {
   "cell_type": "markdown",
   "metadata": {},
   "source": [
    "# PCA "
   ]
  },
  {
   "cell_type": "code",
   "execution_count": 6,
   "metadata": {
    "collapsed": true
   },
   "outputs": [],
   "source": [
    "componente_pca = 85\n",
    "\n",
    "pca = PCA(n_components=componente_pca)\n",
    "X_pca_train = pca.fit_transform(X_sc_train)\n",
    "X_pca_test = pca.transform(X_sc_test)\n",
    "pca_std = np.std(X_pca_train)\n",
    "\n"
   ]
  },
  {
   "cell_type": "code",
   "execution_count": 7,
   "metadata": {
    "collapsed": true
   },
   "outputs": [],
   "source": [
    "inv_pca = pca.inverse_transform(X_pca_train)\n",
    "inv_sc = scaler.inverse_transform(inv_pca)"
   ]
  },
  {
   "cell_type": "code",
   "execution_count": 8,
   "metadata": {},
   "outputs": [
    {
     "data": {
      "image/png": "[encoded data removed]",
      "text/plain": [
       "<matplotlib.figure.Figure at 0x126c18940>"
      ]
     },
     "metadata": {},
     "output_type": "display_data"
    },
    {
     "data": {
      "image/png": "[encoded data removed]",
      "text/plain": [
       "<matplotlib.figure.Figure at 0x124a2dfd0>"
      ]
     },
     "metadata": {},
     "output_type": "display_data"
    },
    {
     "data": {
      "image/png": "[encoded data removed]",
      "text/plain": [
       "<matplotlib.figure.Figure at 0x1270652e8>"
      ]
     },
     "metadata": {},
     "output_type": "display_data"
    },
    {
     "data": {
      "image/png": "[encoded data removed]",
      "text/plain": [
       "<matplotlib.figure.Figure at 0x125175908>"
      ]
     },
     "metadata": {},
     "output_type": "display_data"
    },
    {
     "data": {
      "image/png": "[encoded data removed]",
      "text/plain": [
       "<matplotlib.figure.Figure at 0x126998ef0>"
      ]
     },
     "metadata": {},
     "output_type": "display_data"
    },
    {
     "data": {
      "image/png": "[encoded data removed]",
      "text/plain": [
       "<matplotlib.figure.Figure at 0x115f68f28>"
      ]
     },
     "metadata": {},
     "output_type": "display_data"
    },
    {
     "data": {
      "image/png": "[encoded data removed]",
      "text/plain": [
       "<matplotlib.figure.Figure at 0x12658af98>"
      ]
     },
     "metadata": {},
     "output_type": "display_data"
    },
    {
     "data": {
      "image/png": "[encoded data removed]",
      "text/plain": [
       "<matplotlib.figure.Figure at 0x127071d30>"
      ]
     },
     "metadata": {},
     "output_type": "display_data"
    },
    {
     "data": {
      "image/png": "[encoded data removed]",
      "text/plain": [
       "<matplotlib.figure.Figure at 0x126d09dd8>"
      ]
     },
     "metadata": {},
     "output_type": "display_data"
    }
   ],
   "source": [
    "def side_by_side(indexes):\n",
    "    org = X_train[indexes].reshape(28,28)\n",
    "    rec = inv_sc[indexes].reshape(28,28)\n",
    "    pair = np.concatenate((org, rec), axis=1)\n",
    "    plt.figure(figsize=(4,2))\n",
    "    plt.imshow(pair)\n",
    "    plt.show()\n",
    "    \n",
    "for index in range(1,10):\n",
    "    side_by_side(index)"
   ]
  },
  {
   "cell_type": "markdown",
   "metadata": {},
   "source": [
    "#### Dupa cate putem observa mai sus, alegand doar 100 de componente din cele 784 (imagini de 28x28 pixeli) putem imaginile nu sunt distorsionate mult si sunt inca usor de recunoscut, \"compresia\" fiind foarte buna"
   ]
  },
  {
   "cell_type": "markdown",
   "metadata": {},
   "source": [
    " "
   ]
  },
  {
   "cell_type": "markdown",
   "metadata": {},
   "source": [
    "### Creare retea PCA - MLP  "
   ]
  },
  {
   "cell_type": "code",
   "execution_count": 9,
   "metadata": {},
   "outputs": [
    {
     "name": "stdout",
     "output_type": "stream",
     "text": [
      "_________________________________________________________________\n",
      "Layer (type)                 Output Shape              Param #   \n",
      "=================================================================\n",
      "dense_1 (Dense)              (None, 128)               11008     \n",
      "_________________________________________________________________\n",
      "gaussian_noise_1 (GaussianNo (None, 128)               0         \n",
      "_________________________________________________________________\n",
      "dense_2 (Dense)              (None, 128)               16512     \n",
      "_________________________________________________________________\n",
      "gaussian_noise_2 (GaussianNo (None, 128)               0         \n",
      "_________________________________________________________________\n",
      "dropout_1 (Dropout)          (None, 128)               0         \n",
      "_________________________________________________________________\n",
      "dense_3 (Dense)              (None, 10)                1290      \n",
      "=================================================================\n",
      "Total params: 28,810\n",
      "Trainable params: 28,810\n",
      "Non-trainable params: 0\n",
      "_________________________________________________________________\n"
     ]
    }
   ],
   "source": [
    "model = Sequential()\n",
    "layers = 1\n",
    "units = 128\n",
    "\n",
    "model.add(Dense(units, input_dim=componente_pca, activation='relu'))\n",
    "model.add(GaussianNoise(pca_std))\n",
    "for i in range(layers):\n",
    "    model.add(Dense(units, activation='relu'))\n",
    "    model.add(GaussianNoise(pca_std))\n",
    "    model.add(Dropout(0.1))\n",
    "model.add(Dense(10, activation='softmax'))\n",
    "\n",
    "model.compile(loss='categorical_crossentropy', optimizer='rmsprop', metrics=['categorical_accuracy'])\n",
    "model.summary()\n"
   ]
  },
  {
   "cell_type": "markdown",
   "metadata": {},
   "source": [
    "### Antrenare PCA - MLP"
   ]
  },
  {
   "cell_type": "code",
   "execution_count": 10,
   "metadata": {},
   "outputs": [
    {
     "name": "stdout",
     "output_type": "stream",
     "text": [
      "Train on 35700 samples, validate on 6300 samples\n",
      "Epoch 1/100\n",
      "35700/35700 [==============================] - 1s 29us/step - loss: 2.6909 - categorical_accuracy: 0.4786 - val_loss: 0.4364 - val_categorical_accuracy: 0.8806\n",
      "Epoch 2/100\n",
      "35700/35700 [==============================] - 1s 18us/step - loss: 0.9420 - categorical_accuracy: 0.7755 - val_loss: 0.3409 - val_categorical_accuracy: 0.9110\n",
      "Epoch 3/100\n",
      "35700/35700 [==============================] - 1s 30us/step - loss: 0.6125 - categorical_accuracy: 0.8376 - val_loss: 0.2827 - val_categorical_accuracy: 0.9197\n",
      "Epoch 4/100\n",
      "35700/35700 [==============================] - 1s 27us/step - loss: 0.4635 - categorical_accuracy: 0.8684 - val_loss: 0.2515 - val_categorical_accuracy: 0.9278\n",
      "Epoch 5/100\n",
      "35700/35700 [==============================] - 1s 20us/step - loss: 0.3775 - categorical_accuracy: 0.8855 - val_loss: 0.2355 - val_categorical_accuracy: 0.9333\n",
      "Epoch 6/100\n",
      "35700/35700 [==============================] - 1s 20us/step - loss: 0.3222 - categorical_accuracy: 0.8999 - val_loss: 0.2057 - val_categorical_accuracy: 0.9402\n",
      "Epoch 7/100\n",
      "35700/35700 [==============================] - 1s 20us/step - loss: 0.2874 - categorical_accuracy: 0.9104 - val_loss: 0.1939 - val_categorical_accuracy: 0.9417\n",
      "Epoch 8/100\n",
      "35700/35700 [==============================] - 1s 19us/step - loss: 0.2570 - categorical_accuracy: 0.9190 - val_loss: 0.1718 - val_categorical_accuracy: 0.9495\n",
      "Epoch 9/100\n",
      "35700/35700 [==============================] - 1s 21us/step - loss: 0.2356 - categorical_accuracy: 0.9254 - val_loss: 0.1623 - val_categorical_accuracy: 0.9502\n",
      "Epoch 10/100\n",
      "35700/35700 [==============================] - 1s 19us/step - loss: 0.2223 - categorical_accuracy: 0.9303 - val_loss: 0.1461 - val_categorical_accuracy: 0.9546\n",
      "Epoch 11/100\n",
      "35700/35700 [==============================] - 1s 19us/step - loss: 0.2100 - categorical_accuracy: 0.9345 - val_loss: 0.1506 - val_categorical_accuracy: 0.9538\n",
      "Epoch 12/100\n",
      "35700/35700 [==============================] - 1s 22us/step - loss: 0.1970 - categorical_accuracy: 0.9381 - val_loss: 0.1396 - val_categorical_accuracy: 0.9570\n",
      "Epoch 13/100\n",
      "35700/35700 [==============================] - 1s 15us/step - loss: 0.1833 - categorical_accuracy: 0.9435 - val_loss: 0.1356 - val_categorical_accuracy: 0.9570\n",
      "Epoch 14/100\n",
      "35700/35700 [==============================] - 1s 16us/step - loss: 0.1746 - categorical_accuracy: 0.9451 - val_loss: 0.1360 - val_categorical_accuracy: 0.9595\n",
      "Epoch 15/100\n",
      "35700/35700 [==============================] - 1s 16us/step - loss: 0.1679 - categorical_accuracy: 0.9463 - val_loss: 0.1259 - val_categorical_accuracy: 0.9616\n",
      "Epoch 16/100\n",
      "35700/35700 [==============================] - 1s 17us/step - loss: 0.1605 - categorical_accuracy: 0.9493 - val_loss: 0.1215 - val_categorical_accuracy: 0.9622\n",
      "Epoch 17/100\n",
      "35700/35700 [==============================] - 1s 18us/step - loss: 0.1539 - categorical_accuracy: 0.9512 - val_loss: 0.1201 - val_categorical_accuracy: 0.9629\n",
      "Epoch 18/100\n",
      "35700/35700 [==============================] - 1s 18us/step - loss: 0.1486 - categorical_accuracy: 0.9524 - val_loss: 0.1213 - val_categorical_accuracy: 0.9633\n",
      "Epoch 19/100\n",
      "35700/35700 [==============================] - 1s 16us/step - loss: 0.1435 - categorical_accuracy: 0.9546 - val_loss: 0.1110 - val_categorical_accuracy: 0.9654\n",
      "Epoch 20/100\n",
      "35700/35700 [==============================] - 1s 16us/step - loss: 0.1344 - categorical_accuracy: 0.9587 - val_loss: 0.1127 - val_categorical_accuracy: 0.9660\n",
      "Epoch 21/100\n",
      "35700/35700 [==============================] - 1s 15us/step - loss: 0.1330 - categorical_accuracy: 0.9587 - val_loss: 0.1119 - val_categorical_accuracy: 0.9660\n",
      "Epoch 22/100\n",
      "35700/35700 [==============================] - 1s 16us/step - loss: 0.1314 - categorical_accuracy: 0.9587 - val_loss: 0.1172 - val_categorical_accuracy: 0.9649\n",
      "Epoch 23/100\n",
      "35700/35700 [==============================] - 1s 16us/step - loss: 0.1223 - categorical_accuracy: 0.9611 - val_loss: 0.1080 - val_categorical_accuracy: 0.9667\n",
      "Epoch 24/100\n",
      "35700/35700 [==============================] - 1s 16us/step - loss: 0.1214 - categorical_accuracy: 0.9611 - val_loss: 0.1107 - val_categorical_accuracy: 0.9660\n",
      "Epoch 25/100\n",
      "35700/35700 [==============================] - 1s 17us/step - loss: 0.1135 - categorical_accuracy: 0.9636 - val_loss: 0.1105 - val_categorical_accuracy: 0.9673\n",
      "Epoch 26/100\n",
      "35700/35700 [==============================] - 1s 18us/step - loss: 0.1144 - categorical_accuracy: 0.9627 - val_loss: 0.1118 - val_categorical_accuracy: 0.9675\n",
      "Epoch 27/100\n",
      "35700/35700 [==============================] - 1s 17us/step - loss: 0.1107 - categorical_accuracy: 0.9643 - val_loss: 0.1113 - val_categorical_accuracy: 0.9678\n",
      "Epoch 28/100\n",
      "35700/35700 [==============================] - 1s 17us/step - loss: 0.1069 - categorical_accuracy: 0.9660 - val_loss: 0.1025 - val_categorical_accuracy: 0.9689\n",
      "Epoch 29/100\n",
      "35700/35700 [==============================] - 1s 17us/step - loss: 0.1045 - categorical_accuracy: 0.9664 - val_loss: 0.1047 - val_categorical_accuracy: 0.9708\n",
      "Epoch 30/100\n",
      "35700/35700 [==============================] - 1s 16us/step - loss: 0.1023 - categorical_accuracy: 0.9676 - val_loss: 0.1031 - val_categorical_accuracy: 0.9679\n",
      "Epoch 31/100\n",
      "35700/35700 [==============================] - 1s 16us/step - loss: 0.1006 - categorical_accuracy: 0.9678 - val_loss: 0.1050 - val_categorical_accuracy: 0.9686\n",
      "Epoch 32/100\n",
      "35700/35700 [==============================] - 1s 16us/step - loss: 0.0972 - categorical_accuracy: 0.9692 - val_loss: 0.1041 - val_categorical_accuracy: 0.9695\n",
      "Epoch 33/100\n",
      "35700/35700 [==============================] - 1s 17us/step - loss: 0.0954 - categorical_accuracy: 0.9694 - val_loss: 0.1003 - val_categorical_accuracy: 0.9700\n",
      "Epoch 34/100\n",
      "35700/35700 [==============================] - 1s 16us/step - loss: 0.0965 - categorical_accuracy: 0.9689 - val_loss: 0.1042 - val_categorical_accuracy: 0.9692\n",
      "Epoch 35/100\n",
      "35700/35700 [==============================] - 1s 17us/step - loss: 0.0909 - categorical_accuracy: 0.9701 - val_loss: 0.1018 - val_categorical_accuracy: 0.9697\n",
      "Epoch 36/100\n",
      "35700/35700 [==============================] - 1s 16us/step - loss: 0.0936 - categorical_accuracy: 0.9697 - val_loss: 0.0987 - val_categorical_accuracy: 0.9706\n",
      "Epoch 37/100\n",
      "35700/35700 [==============================] - 1s 16us/step - loss: 0.0867 - categorical_accuracy: 0.9718 - val_loss: 0.0978 - val_categorical_accuracy: 0.9711\n",
      "Epoch 38/100\n",
      "35700/35700 [==============================] - 1s 15us/step - loss: 0.0860 - categorical_accuracy: 0.9711 - val_loss: 0.1085 - val_categorical_accuracy: 0.9697\n",
      "Epoch 39/100\n",
      "35700/35700 [==============================] - 1s 15us/step - loss: 0.0839 - categorical_accuracy: 0.9735 - val_loss: 0.1015 - val_categorical_accuracy: 0.9714\n",
      "Epoch 40/100\n",
      "35700/35700 [==============================] - 1s 16us/step - loss: 0.0829 - categorical_accuracy: 0.9733 - val_loss: 0.0988 - val_categorical_accuracy: 0.9721\n",
      "Epoch 41/100\n",
      "35700/35700 [==============================] - 1s 16us/step - loss: 0.0833 - categorical_accuracy: 0.9738 - val_loss: 0.0973 - val_categorical_accuracy: 0.9735\n",
      "Epoch 42/100\n",
      "35700/35700 [==============================] - 1s 16us/step - loss: 0.0815 - categorical_accuracy: 0.9737 - val_loss: 0.1023 - val_categorical_accuracy: 0.9717\n",
      "Epoch 43/100\n",
      "35700/35700 [==============================] - 1s 16us/step - loss: 0.0769 - categorical_accuracy: 0.9752 - val_loss: 0.1055 - val_categorical_accuracy: 0.9714\n",
      "Epoch 44/100\n",
      "35700/35700 [==============================] - 1s 16us/step - loss: 0.0750 - categorical_accuracy: 0.9754 - val_loss: 0.0970 - val_categorical_accuracy: 0.9725\n",
      "Epoch 45/100\n",
      "35700/35700 [==============================] - 1s 16us/step - loss: 0.0738 - categorical_accuracy: 0.9747 - val_loss: 0.0966 - val_categorical_accuracy: 0.9732\n",
      "Epoch 46/100\n",
      "35700/35700 [==============================] - 1s 16us/step - loss: 0.0746 - categorical_accuracy: 0.9754 - val_loss: 0.1009 - val_categorical_accuracy: 0.9727\n",
      "Epoch 47/100\n",
      "35700/35700 [==============================] - 1s 16us/step - loss: 0.0690 - categorical_accuracy: 0.9776 - val_loss: 0.1021 - val_categorical_accuracy: 0.9744\n",
      "Epoch 48/100\n"
     ]
    },
    {
     "name": "stdout",
     "output_type": "stream",
     "text": [
      "35700/35700 [==============================] - 1s 16us/step - loss: 0.0711 - categorical_accuracy: 0.9762 - val_loss: 0.1058 - val_categorical_accuracy: 0.9700\n",
      "Epoch 49/100\n",
      "35700/35700 [==============================] - 1s 16us/step - loss: 0.0719 - categorical_accuracy: 0.9770 - val_loss: 0.0985 - val_categorical_accuracy: 0.9741\n",
      "Epoch 50/100\n",
      "35700/35700 [==============================] - 1s 16us/step - loss: 0.0704 - categorical_accuracy: 0.9775 - val_loss: 0.1024 - val_categorical_accuracy: 0.9741\n",
      "Epoch 51/100\n",
      "35700/35700 [==============================] - 1s 16us/step - loss: 0.0667 - categorical_accuracy: 0.9783 - val_loss: 0.1010 - val_categorical_accuracy: 0.9721\n",
      "Epoch 52/100\n",
      "35700/35700 [==============================] - 1s 19us/step - loss: 0.0639 - categorical_accuracy: 0.9789 - val_loss: 0.0997 - val_categorical_accuracy: 0.9749\n",
      "Epoch 53/100\n",
      "35700/35700 [==============================] - 1s 20us/step - loss: 0.0653 - categorical_accuracy: 0.9783 - val_loss: 0.1028 - val_categorical_accuracy: 0.9740\n",
      "Epoch 54/100\n",
      "35700/35700 [==============================] - 1s 18us/step - loss: 0.0631 - categorical_accuracy: 0.9790 - val_loss: 0.1050 - val_categorical_accuracy: 0.9744\n",
      "Epoch 55/100\n",
      "35700/35700 [==============================] - 1s 19us/step - loss: 0.0666 - categorical_accuracy: 0.9791 - val_loss: 0.1077 - val_categorical_accuracy: 0.9724\n",
      "Epoch 56/100\n",
      "35700/35700 [==============================] - 1s 20us/step - loss: 0.0637 - categorical_accuracy: 0.9788 - val_loss: 0.1074 - val_categorical_accuracy: 0.9748\n",
      "Epoch 57/100\n",
      "35700/35700 [==============================] - 1s 17us/step - loss: 0.0616 - categorical_accuracy: 0.9801 - val_loss: 0.1069 - val_categorical_accuracy: 0.9725\n",
      "Epoch 58/100\n",
      "35700/35700 [==============================] - 1s 17us/step - loss: 0.0622 - categorical_accuracy: 0.9792 - val_loss: 0.1069 - val_categorical_accuracy: 0.9730\n",
      "Epoch 59/100\n",
      "35700/35700 [==============================] - 1s 17us/step - loss: 0.0596 - categorical_accuracy: 0.9805 - val_loss: 0.1107 - val_categorical_accuracy: 0.9717\n",
      "Epoch 60/100\n",
      "35700/35700 [==============================] - 1s 20us/step - loss: 0.0580 - categorical_accuracy: 0.9810 - val_loss: 0.1128 - val_categorical_accuracy: 0.9714\n",
      "Epoch 61/100\n",
      "35700/35700 [==============================] - 1s 21us/step - loss: 0.0606 - categorical_accuracy: 0.9810 - val_loss: 0.1051 - val_categorical_accuracy: 0.9738\n",
      "Epoch 62/100\n",
      "35700/35700 [==============================] - 1s 20us/step - loss: 0.0569 - categorical_accuracy: 0.9814 - val_loss: 0.1118 - val_categorical_accuracy: 0.9732\n",
      "Epoch 63/100\n",
      "35700/35700 [==============================] - 1s 19us/step - loss: 0.0567 - categorical_accuracy: 0.9815 - val_loss: 0.1211 - val_categorical_accuracy: 0.9697\n",
      "Epoch 64/100\n",
      "35700/35700 [==============================] - 1s 18us/step - loss: 0.0564 - categorical_accuracy: 0.9811 - val_loss: 0.1158 - val_categorical_accuracy: 0.9735\n",
      "Epoch 65/100\n",
      "35700/35700 [==============================] - 1s 22us/step - loss: 0.0559 - categorical_accuracy: 0.9813 - val_loss: 0.1132 - val_categorical_accuracy: 0.9717\n",
      "Epoch 66/100\n",
      "35700/35700 [==============================] - 1s 18us/step - loss: 0.0564 - categorical_accuracy: 0.9819 - val_loss: 0.1128 - val_categorical_accuracy: 0.9743\n",
      "Epoch 67/100\n",
      "35700/35700 [==============================] - 1s 18us/step - loss: 0.0526 - categorical_accuracy: 0.9834 - val_loss: 0.1143 - val_categorical_accuracy: 0.9741\n",
      "Epoch 68/100\n",
      "35700/35700 [==============================] - 1s 20us/step - loss: 0.0530 - categorical_accuracy: 0.9826 - val_loss: 0.1098 - val_categorical_accuracy: 0.9741\n",
      "Epoch 69/100\n",
      "35700/35700 [==============================] - 1s 20us/step - loss: 0.0505 - categorical_accuracy: 0.9841 - val_loss: 0.1145 - val_categorical_accuracy: 0.9735\n",
      "Epoch 70/100\n",
      "35700/35700 [==============================] - 1s 18us/step - loss: 0.0516 - categorical_accuracy: 0.9836 - val_loss: 0.1084 - val_categorical_accuracy: 0.9741\n",
      "Epoch 71/100\n",
      "35700/35700 [==============================] - 1s 20us/step - loss: 0.0514 - categorical_accuracy: 0.9843 - val_loss: 0.1236 - val_categorical_accuracy: 0.9705\n",
      "Epoch 72/100\n",
      "35700/35700 [==============================] - 1s 18us/step - loss: 0.0539 - categorical_accuracy: 0.9826 - val_loss: 0.1150 - val_categorical_accuracy: 0.9768\n",
      "Epoch 73/100\n",
      "35700/35700 [==============================] - 1s 19us/step - loss: 0.0486 - categorical_accuracy: 0.9844 - val_loss: 0.1081 - val_categorical_accuracy: 0.9729\n",
      "Epoch 74/100\n",
      "35700/35700 [==============================] - 1s 19us/step - loss: 0.0509 - categorical_accuracy: 0.9839 - val_loss: 0.1182 - val_categorical_accuracy: 0.9733\n",
      "Epoch 75/100\n",
      "35700/35700 [==============================] - 1s 19us/step - loss: 0.0475 - categorical_accuracy: 0.9840 - val_loss: 0.1119 - val_categorical_accuracy: 0.9733\n",
      "Epoch 76/100\n",
      "35700/35700 [==============================] - 1s 19us/step - loss: 0.0488 - categorical_accuracy: 0.9841 - val_loss: 0.1140 - val_categorical_accuracy: 0.9737\n",
      "Epoch 77/100\n",
      "35700/35700 [==============================] - 1s 19us/step - loss: 0.0474 - categorical_accuracy: 0.9848 - val_loss: 0.1057 - val_categorical_accuracy: 0.9746\n",
      "Epoch 78/100\n",
      "35700/35700 [==============================] - 1s 20us/step - loss: 0.0475 - categorical_accuracy: 0.9848 - val_loss: 0.1180 - val_categorical_accuracy: 0.9735\n",
      "Epoch 79/100\n",
      "35700/35700 [==============================] - 1s 20us/step - loss: 0.0482 - categorical_accuracy: 0.9843 - val_loss: 0.1192 - val_categorical_accuracy: 0.9735\n",
      "Epoch 80/100\n",
      "35700/35700 [==============================] - 1s 19us/step - loss: 0.0448 - categorical_accuracy: 0.9862 - val_loss: 0.1157 - val_categorical_accuracy: 0.9756\n",
      "Epoch 81/100\n",
      "35700/35700 [==============================] - 1s 19us/step - loss: 0.0432 - categorical_accuracy: 0.9858 - val_loss: 0.1167 - val_categorical_accuracy: 0.9757\n",
      "Epoch 82/100\n",
      "35700/35700 [==============================] - 1s 19us/step - loss: 0.0433 - categorical_accuracy: 0.9860 - val_loss: 0.1207 - val_categorical_accuracy: 0.9749\n",
      "Epoch 83/100\n",
      "35700/35700 [==============================] - 1s 19us/step - loss: 0.0420 - categorical_accuracy: 0.9866 - val_loss: 0.1165 - val_categorical_accuracy: 0.9749\n",
      "Epoch 84/100\n",
      "35700/35700 [==============================] - 1s 19us/step - loss: 0.0435 - categorical_accuracy: 0.9861 - val_loss: 0.1172 - val_categorical_accuracy: 0.9751\n",
      "Epoch 85/100\n",
      "35700/35700 [==============================] - 1s 18us/step - loss: 0.0425 - categorical_accuracy: 0.9865 - val_loss: 0.1188 - val_categorical_accuracy: 0.9725\n",
      "Epoch 86/100\n",
      "35700/35700 [==============================] - 1s 19us/step - loss: 0.0479 - categorical_accuracy: 0.9851 - val_loss: 0.1198 - val_categorical_accuracy: 0.9740\n",
      "Epoch 87/100\n",
      "35700/35700 [==============================] - 1s 19us/step - loss: 0.0413 - categorical_accuracy: 0.9864 - val_loss: 0.1380 - val_categorical_accuracy: 0.9727\n",
      "Epoch 88/100\n",
      "35700/35700 [==============================] - 1s 19us/step - loss: 0.0431 - categorical_accuracy: 0.9866 - val_loss: 0.1332 - val_categorical_accuracy: 0.9722\n",
      "Epoch 89/100\n",
      "35700/35700 [==============================] - 1s 20us/step - loss: 0.0396 - categorical_accuracy: 0.9878 - val_loss: 0.1257 - val_categorical_accuracy: 0.9735\n",
      "Epoch 90/100\n",
      "35700/35700 [==============================] - 1s 25us/step - loss: 0.0400 - categorical_accuracy: 0.9872 - val_loss: 0.1351 - val_categorical_accuracy: 0.9737\n",
      "Epoch 91/100\n",
      "35700/35700 [==============================] - 1s 20us/step - loss: 0.0397 - categorical_accuracy: 0.9869 - val_loss: 0.1198 - val_categorical_accuracy: 0.9744\n",
      "Epoch 92/100\n",
      "35700/35700 [==============================] - 1s 21us/step - loss: 0.0411 - categorical_accuracy: 0.9876 - val_loss: 0.1280 - val_categorical_accuracy: 0.9751\n",
      "Epoch 93/100\n",
      "35700/35700 [==============================] - 1s 22us/step - loss: 0.0405 - categorical_accuracy: 0.9871 - val_loss: 0.1291 - val_categorical_accuracy: 0.9743\n",
      "Epoch 94/100\n",
      "35700/35700 [==============================] - 1s 23us/step - loss: 0.0373 - categorical_accuracy: 0.9883 - val_loss: 0.1350 - val_categorical_accuracy: 0.9724\n",
      "Epoch 95/100\n"
     ]
    },
    {
     "name": "stdout",
     "output_type": "stream",
     "text": [
      "35700/35700 [==============================] - 1s 20us/step - loss: 0.0385 - categorical_accuracy: 0.9882 - val_loss: 0.1302 - val_categorical_accuracy: 0.9724\n",
      "Epoch 96/100\n",
      "35700/35700 [==============================] - 1s 19us/step - loss: 0.0360 - categorical_accuracy: 0.9884 - val_loss: 0.1332 - val_categorical_accuracy: 0.9735\n",
      "Epoch 97/100\n",
      "35700/35700 [==============================] - 1s 18us/step - loss: 0.0362 - categorical_accuracy: 0.9883 - val_loss: 0.1260 - val_categorical_accuracy: 0.9748\n",
      "Epoch 98/100\n",
      "35700/35700 [==============================] - 1s 18us/step - loss: 0.0383 - categorical_accuracy: 0.9875 - val_loss: 0.1317 - val_categorical_accuracy: 0.9733\n",
      "Epoch 99/100\n",
      "35700/35700 [==============================] - 1s 17us/step - loss: 0.0362 - categorical_accuracy: 0.9886 - val_loss: 0.1294 - val_categorical_accuracy: 0.9741\n",
      "Epoch 100/100\n",
      "35700/35700 [==============================] - 1s 18us/step - loss: 0.0338 - categorical_accuracy: 0.9889 - val_loss: 0.1281 - val_categorical_accuracy: 0.9735\n"
     ]
    },
    {
     "data": {
      "text/plain": [
       "<keras.callbacks.History at 0x1049887b8>"
      ]
     },
     "execution_count": 10,
     "metadata": {},
     "output_type": "execute_result"
    }
   ],
   "source": [
    "model.fit(X_pca_train, Y_train, epochs=100, batch_size=256, validation_split=0.15)"
   ]
  },
  {
   "cell_type": "markdown",
   "metadata": {},
   "source": [
    "Acuratetea in jur de "
   ]
  },
  {
   "cell_type": "code",
   "execution_count": 11,
   "metadata": {
    "collapsed": true
   },
   "outputs": [],
   "source": [
    "predictions = model.predict_classes(X_pca_test, verbose=0)\n"
   ]
  },
  {
   "cell_type": "markdown",
   "metadata": {
    "collapsed": true
   },
   "source": [
    " "
   ]
  },
  {
   "cell_type": "markdown",
   "metadata": {
    "collapsed": true
   },
   "source": [
    " Vom incerca o testare vizuala in acesta parte a proiectului afisand predictia facuta de PCA -MLP, iar apoi imaginea"
   ]
  },
  {
   "cell_type": "code",
   "execution_count": 12,
   "metadata": {},
   "outputs": [
    {
     "name": "stdout",
     "output_type": "stream",
     "text": [
      "Predictie : 7\n"
     ]
    },
    {
     "data": {
      "image/png": "[encoded data removed]",
      "text/plain": [
       "<matplotlib.figure.Figure at 0x104349978>"
      ]
     },
     "metadata": {},
     "output_type": "display_data"
    },
    {
     "name": "stdout",
     "output_type": "stream",
     "text": [
      "Predictie : 8\n"
     ]
    },
    {
     "data": {
      "image/png": "[encoded data removed]",
      "text/plain": [
       "<matplotlib.figure.Figure at 0x126d09f28>"
      ]
     },
     "metadata": {},
     "output_type": "display_data"
    },
    {
     "name": "stdout",
     "output_type": "stream",
     "text": [
      "Predictie : 5\n"
     ]
    },
    {
     "data": {
      "image/png": "[encoded data removed]",
      "text/plain": [
       "<matplotlib.figure.Figure at 0x12658a9e8>"
      ]
     },
     "metadata": {},
     "output_type": "display_data"
    },
    {
     "name": "stdout",
     "output_type": "stream",
     "text": [
      "Predictie : 9\n"
     ]
    },
    {
     "data": {
      "image/png": "[encoded data removed]",
      "text/plain": [
       "<matplotlib.figure.Figure at 0x12516f198>"
      ]
     },
     "metadata": {},
     "output_type": "display_data"
    },
    {
     "name": "stdout",
     "output_type": "stream",
     "text": [
      "Predictie : 5\n"
     ]
    },
    {
     "data": {
      "image/png": "[encoded data removed]",
      "text/plain": [
       "<matplotlib.figure.Figure at 0x1265b0c18>"
      ]
     },
     "metadata": {},
     "output_type": "display_data"
    },
    {
     "name": "stdout",
     "output_type": "stream",
     "text": [
      "Predictie : 2\n"
     ]
    },
    {
     "data": {
      "image/png": "[encoded data removed]",
      "text/plain": [
       "<matplotlib.figure.Figure at 0x115f6ae10>"
      ]
     },
     "metadata": {},
     "output_type": "display_data"
    },
    {
     "name": "stdout",
     "output_type": "stream",
     "text": [
      "Predictie : 6\n"
     ]
    },
    {
     "data": {
      "image/png": "[encoded data removed]",
      "text/plain": [
       "<matplotlib.figure.Figure at 0x12595e710>"
      ]
     },
     "metadata": {},
     "output_type": "display_data"
    },
    {
     "name": "stdout",
     "output_type": "stream",
     "text": [
      "Predictie : 1\n"
     ]
    },
    {
     "data": {
      "image/png": "[encoded data removed]",
      "text/plain": [
       "<matplotlib.figure.Figure at 0x125a6dc88>"
      ]
     },
     "metadata": {},
     "output_type": "display_data"
    },
    {
     "name": "stdout",
     "output_type": "stream",
     "text": [
      "Predictie : 6\n"
     ]
    },
    {
     "data": {
      "image/png": "[encoded data removed]",
      "text/plain": [
       "<matplotlib.figure.Figure at 0x125abc160>"
      ]
     },
     "metadata": {},
     "output_type": "display_data"
    },
    {
     "name": "stdout",
     "output_type": "stream",
     "text": [
      "Predictie : 7\n"
     ]
    },
    {
     "data": {
      "image/png": "[encoded data removed]",
      "text/plain": [
       "<matplotlib.figure.Figure at 0x125c55c88>"
      ]
     },
     "metadata": {},
     "output_type": "display_data"
    }
   ],
   "source": [
    "numere_aleatore = random.sample(range(1, 28000), 10)\n",
    "\n",
    "\n",
    "for i in numere_aleatore:\n",
    "    plt.imshow(X_test[i].reshape(28,28))\n",
    "    print('Predictie :', predictions[i])\n",
    "    plt.show()"
   ]
  },
  {
   "cell_type": "code",
   "execution_count": null,
   "metadata": {
    "collapsed": true
   },
   "outputs": [],
   "source": []
  },
  {
   "cell_type": "code",
   "execution_count": null,
   "metadata": {
    "collapsed": true
   },
   "outputs": [],
   "source": []
  },
  {
   "cell_type": "code",
   "execution_count": null,
   "metadata": {
    "collapsed": true
   },
   "outputs": [],
   "source": []
  },
  {
   "cell_type": "code",
   "execution_count": null,
   "metadata": {
    "collapsed": true
   },
   "outputs": [],
   "source": []
  },
  {
   "cell_type": "code",
   "execution_count": null,
   "metadata": {
    "collapsed": true
   },
   "outputs": [],
   "source": []
  },
  {
   "cell_type": "code",
   "execution_count": null,
   "metadata": {
    "collapsed": true
   },
   "outputs": [],
   "source": []
  }
 ],
 "metadata": {
  "kernelspec": {
   "display_name": "Python 3",
   "language": "python",
   "name": "python3"
  },
  "language_info": {
   "codemirror_mode": {
    "name": "ipython",
    "version": 3
   },
   "file_extension": ".py",
   "mimetype": "text/x-python",
   "name": "python",
   "nbconvert_exporter": "python",
   "pygments_lexer": "ipython3",
   "version": "3.5.4"
  }
 },
 "nbformat": 4,
 "nbformat_minor": 2
}
