{
 "cells": [
  {
   "cell_type": "markdown",
   "metadata": {},
   "source": [
    "<h1><center>Proiect IC2</center></h1>\n"
   ]
  },
  {
   "cell_type": "markdown",
   "metadata": {},
   "source": [
    "#### Studenti:"
   ]
  },
  {
   "cell_type": "markdown",
   "metadata": {},
   "source": [
    "###  Mihai Lacusteanu"
   ]
  },
  {
   "cell_type": "markdown",
   "metadata": {},
   "source": [
    "### Alexandru-Florian Ion "
   ]
  },
  {
   "cell_type": "markdown",
   "metadata": {},
   "source": [
    " "
   ]
  },
  {
   "cell_type": "markdown",
   "metadata": {},
   "source": [
    " "
   ]
  },
  {
   "cell_type": "markdown",
   "metadata": {},
   "source": [
    "#### Profesor: "
   ]
  },
  {
   "cell_type": "markdown",
   "metadata": {},
   "source": [
    "### Victor-Emil Neagoe"
   ]
  },
  {
   "cell_type": "markdown",
   "metadata": {},
   "source": [
    " "
   ]
  },
  {
   "cell_type": "markdown",
   "metadata": {},
   "source": [
    " "
   ]
  },
  {
   "cell_type": "markdown",
   "metadata": {},
   "source": [
    " "
   ]
  },
  {
   "cell_type": "markdown",
   "metadata": {
    "collapsed": true
   },
   "source": [
    "  "
   ]
  },
  {
   "cell_type": "markdown",
   "metadata": {},
   "source": [
    "### Importare biblioteci necesare"
   ]
  },
  {
   "cell_type": "markdown",
   "metadata": {},
   "source": [
    " "
   ]
  },
  {
   "cell_type": "code",
   "execution_count": 118,
   "metadata": {
    "collapsed": true
   },
   "outputs": [],
   "source": [
    "import numpy as np\n",
    "import pandas as pd\n",
    "\n",
    "from sklearn.preprocessing import StandardScaler\n",
    "from sklearn.decomposition import PCA\n",
    "\n",
    "from keras.models import Sequential\n",
    "from keras.utils import np_utils\n",
    "from keras.layers import Dense, Dropout, GaussianNoise, Conv1D\n",
    "from keras.preprocessing.image import ImageDataGenerator\n",
    "\n",
    "import matplotlib.pyplot as plt\n",
    "import seaborn as sns\n",
    "%matplotlib inline\n",
    "from keras.datasets import mnist\n",
    "import random"
   ]
  },
  {
   "cell_type": "markdown",
   "metadata": {},
   "source": [
    "### Citirea datelor (fisiere .csv)"
   ]
  },
  {
   "cell_type": "code",
   "execution_count": 82,
   "metadata": {
    "collapsed": true
   },
   "outputs": [],
   "source": [
    "test = pd.read_csv('test.csv')\n",
    "train = pd.read_csv('train.csv')"
   ]
  },
  {
   "cell_type": "markdown",
   "metadata": {},
   "source": [
    " "
   ]
  },
  {
   "cell_type": "markdown",
   "metadata": {},
   "source": [
    " "
   ]
  },
  {
   "cell_type": "markdown",
   "metadata": {},
   "source": [
    "### Prelucrarea datelor pentru a putea fi introduse in reteaua MLP"
   ]
  },
  {
   "cell_type": "code",
   "execution_count": 83,
   "metadata": {
    "collapsed": true
   },
   "outputs": [],
   "source": [
    "Y_train = train['label'].values.astype('int32')\n",
    "Y_train = np_utils.to_categorical(Y_train) \n",
    "train.drop(['label'], axis=1, inplace=True)\n",
    "\n",
    "X_train = (train.values).astype('float32')\n",
    "X_test = (test.values).astype('float32')\n",
    "\n",
    "\n",
    "# Codul de mai sus poate fi usor inlocuit cu urmatoarea comanda pe care o vom demonstra in exemplul cu MLP\n",
    "# (X_train, Y_train), (X_test, Y_test) = mnist.load_data() \n",
    "\n",
    "\n",
    "scaler = StandardScaler()\n",
    "scaler.fit(X_train)\n",
    "X_sc_train = scaler.transform(X_train)\n",
    "X_sc_test = scaler.transform(X_test)"
   ]
  },
  {
   "cell_type": "markdown",
   "metadata": {},
   "source": [
    " "
   ]
  },
  {
   "cell_type": "markdown",
   "metadata": {},
   "source": [
    " "
   ]
  },
  {
   "cell_type": "code",
   "execution_count": 84,
   "metadata": {},
   "outputs": [
    {
     "name": "stdout",
     "output_type": "stream",
     "text": [
      "Y_train are formatul: [1. 0. 0. 0. 0. 0. 0. 0. 0. 0.]\n",
      "Se pune 1 in dreptul cifrei corecte.\n",
      "Spre exemplu mai sus avem o iesire corespunzatoare cifrei 0\n"
     ]
    },
    {
     "data": {
      "image/png": "[encoded data removed]",
      "text/plain": [
       "<matplotlib.figure.Figure at 0x12cb065c0>"
      ]
     },
     "metadata": {},
     "output_type": "display_data"
    }
   ],
   "source": [
    "print('Y_train are formatul: {}'.format(Y_train[1]))\n",
    "print('Se pune 1 in dreptul cifrei corecte.')\n",
    "print('Spre exemplu mai sus avem o iesire corespunzatoare cifrei 0')\n",
    "plt.imshow(X_train[1].reshape(28,28))\n",
    "plt.show()"
   ]
  },
  {
   "cell_type": "markdown",
   "metadata": {},
   "source": [
    "### Aproximare numar componente PCA"
   ]
  },
  {
   "cell_type": "code",
   "execution_count": 85,
   "metadata": {},
   "outputs": [
    {
     "data": {
      "text/plain": [
       "<matplotlib.text.Text at 0x12f1a4518>"
      ]
     },
     "execution_count": 85,
     "metadata": {},
     "output_type": "execute_result"
    },
    {
     "data": {
      "image/png": "[encoded data removed]",
      "text/plain": [
       "<matplotlib.figure.Figure at 0x12f40b0f0>"
      ]
     },
     "metadata": {},
     "output_type": "display_data"
    }
   ],
   "source": [
    "pca = PCA(n_components=500)\n",
    "pca.fit(x_train)\n",
    "\n",
    "plt.plot(np.cumsum(pca.explained_variance_ratio_))\n",
    "plt.xlabel('Numar de componente')\n",
    "plt.ylabel('Varianta')"
   ]
  },
  {
   "cell_type": "markdown",
   "metadata": {
    "collapsed": true
   },
   "source": [
    " ##### Observam mai sus ca 100 de componente ar fi o valoare decenta a micsora volumul de calcule si in acelasi timp pentru a avea o acuratete mare"
   ]
  },
  {
   "cell_type": "markdown",
   "metadata": {},
   "source": [
    "# PCA "
   ]
  },
  {
   "cell_type": "code",
   "execution_count": 86,
   "metadata": {
    "collapsed": true
   },
   "outputs": [],
   "source": [
    "componente_pca = 100\n",
    "\n",
    "pca = PCA(n_components=componente_pca)\n",
    "X_pca_train = pca.fit_transform(X_sc_train)\n",
    "X_pca_test = pca.transform(X_sc_test)\n",
    "pca_std = np.std(X_pca_train)\n",
    "\n"
   ]
  },
  {
   "cell_type": "code",
   "execution_count": 87,
   "metadata": {
    "collapsed": true
   },
   "outputs": [],
   "source": [
    "inv_pca = pca.inverse_transform(X_pca_train)\n",
    "inv_sc = scaler.inverse_transform(inv_pca)"
   ]
  },
  {
   "cell_type": "code",
   "execution_count": 88,
   "metadata": {},
   "outputs": [
    {
     "data": {
      "image/png": "[encoded data removed]",
      "text/plain": [
       "<matplotlib.figure.Figure at 0x12cad8438>"
      ]
     },
     "metadata": {},
     "output_type": "display_data"
    },
    {
     "data": {
      "image/png": "[encoded data removed]",
      "text/plain": [
       "<matplotlib.figure.Figure at 0x1313382e8>"
      ]
     },
     "metadata": {},
     "output_type": "display_data"
    },
    {
     "data": {
      "image/png": "[encoded data removed]",
      "text/plain": [
       "<matplotlib.figure.Figure at 0x12f6354e0>"
      ]
     },
     "metadata": {},
     "output_type": "display_data"
    },
    {
     "data": {
      "image/png": "[encoded data removed]",
      "text/plain": [
       "<matplotlib.figure.Figure at 0x12f2bcc50>"
      ]
     },
     "metadata": {},
     "output_type": "display_data"
    },
    {
     "data": {
      "image/png": "[encoded data removed]",
      "text/plain": [
       "<matplotlib.figure.Figure at 0x12fc6ca58>"
      ]
     },
     "metadata": {},
     "output_type": "display_data"
    },
    {
     "data": {
      "image/png": "[encoded data removed]",
      "text/plain": [
       "<matplotlib.figure.Figure at 0x12f5219b0>"
      ]
     },
     "metadata": {},
     "output_type": "display_data"
    },
    {
     "data": {
      "image/png": "[encoded data removed]",
      "text/plain": [
       "<matplotlib.figure.Figure at 0x12fc8da20>"
      ]
     },
     "metadata": {},
     "output_type": "display_data"
    },
    {
     "data": {
      "image/png": "[encoded data removed]",
      "text/plain": [
       "<matplotlib.figure.Figure at 0x12f63f6a0>"
      ]
     },
     "metadata": {},
     "output_type": "display_data"
    },
    {
     "data": {
      "image/png": "[encoded data removed]",
      "text/plain": [
       "<matplotlib.figure.Figure at 0x131371e80>"
      ]
     },
     "metadata": {},
     "output_type": "display_data"
    }
   ],
   "source": [
    "def side_by_side(indexes):\n",
    "    org = X_train[indexes].reshape(28,28)\n",
    "    rec = inv_sc[indexes].reshape(28,28)\n",
    "    pair = np.concatenate((org, rec), axis=1)\n",
    "    plt.figure(figsize=(4,2))\n",
    "    plt.imshow(pair)\n",
    "    plt.show()\n",
    "    \n",
    "for index in range(1,10):\n",
    "    side_by_side(index)"
   ]
  },
  {
   "cell_type": "markdown",
   "metadata": {},
   "source": [
    "#### Dupa cate putem observa mai sus, alegand doar 100 de componente din cele 784 (imagini de 28x28 pixeli) putem imaginile nu sunt distorsionate mult si sunt inca usor de recunoscut, \"compresia\" fiind foarte buna"
   ]
  },
  {
   "cell_type": "markdown",
   "metadata": {},
   "source": [
    " "
   ]
  },
  {
   "cell_type": "markdown",
   "metadata": {},
   "source": [
    "### Creare retea PCA - MLP  "
   ]
  },
  {
   "cell_type": "code",
   "execution_count": 89,
   "metadata": {},
   "outputs": [
    {
     "name": "stdout",
     "output_type": "stream",
     "text": [
      "_________________________________________________________________\n",
      "Layer (type)                 Output Shape              Param #   \n",
      "=================================================================\n",
      "dense_10 (Dense)             (None, 128)               12928     \n",
      "_________________________________________________________________\n",
      "gaussian_noise_7 (GaussianNo (None, 128)               0         \n",
      "_________________________________________________________________\n",
      "dense_11 (Dense)             (None, 128)               16512     \n",
      "_________________________________________________________________\n",
      "gaussian_noise_8 (GaussianNo (None, 128)               0         \n",
      "_________________________________________________________________\n",
      "dropout_4 (Dropout)          (None, 128)               0         \n",
      "_________________________________________________________________\n",
      "dense_12 (Dense)             (None, 10)                1290      \n",
      "=================================================================\n",
      "Total params: 30,730\n",
      "Trainable params: 30,730\n",
      "Non-trainable params: 0\n",
      "_________________________________________________________________\n"
     ]
    }
   ],
   "source": [
    "model = Sequential()\n",
    "layers = 1\n",
    "units = 128\n",
    "\n",
    "model.add(Dense(units, input_dim=componente_pca, activation='relu'))\n",
    "model.add(GaussianNoise(pca_std))\n",
    "for i in range(layers):\n",
    "    model.add(Dense(units, activation='relu'))\n",
    "    model.add(GaussianNoise(pca_std))\n",
    "    model.add(Dropout(0.1))\n",
    "model.add(Dense(10, activation='softmax'))\n",
    "\n",
    "model.compile(loss='categorical_crossentropy', optimizer='rmsprop', metrics=['categorical_accuracy'])\n",
    "model.summary()\n"
   ]
  },
  {
   "cell_type": "markdown",
   "metadata": {},
   "source": [
    "### Antrenare PCA - MLP"
   ]
  },
  {
   "cell_type": "code",
   "execution_count": 91,
   "metadata": {},
   "outputs": [
    {
     "name": "stdout",
     "output_type": "stream",
     "text": [
      "Train on 35700 samples, validate on 6300 samples\n",
      "Epoch 1/100\n",
      "35700/35700 [==============================] - 1s 33us/step - loss: 2.5114 - categorical_accuracy: 0.4918 - val_loss: 0.4340 - val_categorical_accuracy: 0.8840\n",
      "Epoch 2/100\n",
      "35700/35700 [==============================] - 1s 19us/step - loss: 0.8631 - categorical_accuracy: 0.7874 - val_loss: 0.3267 - val_categorical_accuracy: 0.9143\n",
      "Epoch 3/100\n",
      "35700/35700 [==============================] - 1s 22us/step - loss: 0.5581 - categorical_accuracy: 0.8487 - val_loss: 0.2777 - val_categorical_accuracy: 0.9238\n",
      "Epoch 4/100\n",
      "35700/35700 [==============================] - 1s 19us/step - loss: 0.4331 - categorical_accuracy: 0.8751 - val_loss: 0.2278 - val_categorical_accuracy: 0.9337\n",
      "Epoch 5/100\n",
      "35700/35700 [==============================] - 1s 20us/step - loss: 0.3530 - categorical_accuracy: 0.8936 - val_loss: 0.2098 - val_categorical_accuracy: 0.9403\n",
      "Epoch 6/100\n",
      "35700/35700 [==============================] - 1s 19us/step - loss: 0.3043 - categorical_accuracy: 0.9057 - val_loss: 0.1993 - val_categorical_accuracy: 0.9410\n",
      "Epoch 7/100\n",
      "35700/35700 [==============================] - 1s 18us/step - loss: 0.2705 - categorical_accuracy: 0.9170 - val_loss: 0.1762 - val_categorical_accuracy: 0.9481\n",
      "Epoch 8/100\n",
      "35700/35700 [==============================] - 1s 19us/step - loss: 0.2444 - categorical_accuracy: 0.9247 - val_loss: 0.1620 - val_categorical_accuracy: 0.9517\n",
      "Epoch 9/100\n",
      "35700/35700 [==============================] - 1s 18us/step - loss: 0.2231 - categorical_accuracy: 0.9309 - val_loss: 0.1530 - val_categorical_accuracy: 0.9551\n",
      "Epoch 10/100\n",
      "35700/35700 [==============================] - 1s 19us/step - loss: 0.2073 - categorical_accuracy: 0.9360 - val_loss: 0.1401 - val_categorical_accuracy: 0.9589\n",
      "Epoch 11/100\n",
      "35700/35700 [==============================] - 1s 20us/step - loss: 0.1925 - categorical_accuracy: 0.9382 - val_loss: 0.1361 - val_categorical_accuracy: 0.9571\n",
      "Epoch 12/100\n",
      "35700/35700 [==============================] - 1s 23us/step - loss: 0.1780 - categorical_accuracy: 0.9437 - val_loss: 0.1304 - val_categorical_accuracy: 0.9611\n",
      "Epoch 13/100\n",
      "35700/35700 [==============================] - 1s 22us/step - loss: 0.1753 - categorical_accuracy: 0.9450 - val_loss: 0.1263 - val_categorical_accuracy: 0.9606\n",
      "Epoch 14/100\n",
      "35700/35700 [==============================] - 1s 19us/step - loss: 0.1660 - categorical_accuracy: 0.9474 - val_loss: 0.1251 - val_categorical_accuracy: 0.9608\n",
      "Epoch 15/100\n",
      "35700/35700 [==============================] - 1s 19us/step - loss: 0.1573 - categorical_accuracy: 0.9504 - val_loss: 0.1147 - val_categorical_accuracy: 0.9644\n",
      "Epoch 16/100\n",
      "35700/35700 [==============================] - 1s 19us/step - loss: 0.1491 - categorical_accuracy: 0.9539 - val_loss: 0.1126 - val_categorical_accuracy: 0.9651\n",
      "Epoch 17/100\n",
      "35700/35700 [==============================] - 1s 19us/step - loss: 0.1418 - categorical_accuracy: 0.9554 - val_loss: 0.1145 - val_categorical_accuracy: 0.9632\n",
      "Epoch 18/100\n",
      "35700/35700 [==============================] - 1s 19us/step - loss: 0.1363 - categorical_accuracy: 0.9565 - val_loss: 0.1105 - val_categorical_accuracy: 0.9649\n",
      "Epoch 19/100\n",
      "35700/35700 [==============================] - 1s 19us/step - loss: 0.1297 - categorical_accuracy: 0.9602 - val_loss: 0.1093 - val_categorical_accuracy: 0.9657\n",
      "Epoch 20/100\n",
      "35700/35700 [==============================] - 1s 19us/step - loss: 0.1273 - categorical_accuracy: 0.9605 - val_loss: 0.1068 - val_categorical_accuracy: 0.9676\n",
      "Epoch 21/100\n",
      "35700/35700 [==============================] - 1s 24us/step - loss: 0.1228 - categorical_accuracy: 0.9610 - val_loss: 0.1072 - val_categorical_accuracy: 0.9676\n",
      "Epoch 22/100\n",
      "35700/35700 [==============================] - 1s 25us/step - loss: 0.1171 - categorical_accuracy: 0.9632 - val_loss: 0.1026 - val_categorical_accuracy: 0.9683\n",
      "Epoch 23/100\n",
      "35700/35700 [==============================] - 1s 20us/step - loss: 0.1183 - categorical_accuracy: 0.9636 - val_loss: 0.0998 - val_categorical_accuracy: 0.9683\n",
      "Epoch 24/100\n",
      "35700/35700 [==============================] - 1s 19us/step - loss: 0.1092 - categorical_accuracy: 0.9658 - val_loss: 0.1015 - val_categorical_accuracy: 0.9695\n",
      "Epoch 25/100\n",
      "35700/35700 [==============================] - 1s 19us/step - loss: 0.1077 - categorical_accuracy: 0.9653 - val_loss: 0.1055 - val_categorical_accuracy: 0.9686\n",
      "Epoch 26/100\n",
      "35700/35700 [==============================] - 1s 20us/step - loss: 0.1046 - categorical_accuracy: 0.9669 - val_loss: 0.0980 - val_categorical_accuracy: 0.9697\n",
      "Epoch 27/100\n",
      "35700/35700 [==============================] - 1s 19us/step - loss: 0.0979 - categorical_accuracy: 0.9684 - val_loss: 0.0998 - val_categorical_accuracy: 0.9721\n",
      "Epoch 28/100\n",
      "35700/35700 [==============================] - 1s 19us/step - loss: 0.0998 - categorical_accuracy: 0.9687 - val_loss: 0.1022 - val_categorical_accuracy: 0.9703\n",
      "Epoch 29/100\n",
      "35700/35700 [==============================] - 1s 20us/step - loss: 0.0971 - categorical_accuracy: 0.9692 - val_loss: 0.0989 - val_categorical_accuracy: 0.9700\n",
      "Epoch 30/100\n",
      "35700/35700 [==============================] - 1s 19us/step - loss: 0.0938 - categorical_accuracy: 0.9699 - val_loss: 0.0990 - val_categorical_accuracy: 0.9730\n",
      "Epoch 31/100\n",
      "35700/35700 [==============================] - 1s 19us/step - loss: 0.0924 - categorical_accuracy: 0.9711 - val_loss: 0.1051 - val_categorical_accuracy: 0.9692\n",
      "Epoch 32/100\n",
      "35700/35700 [==============================] - 1s 19us/step - loss: 0.0884 - categorical_accuracy: 0.9717 - val_loss: 0.0942 - val_categorical_accuracy: 0.9730\n",
      "Epoch 33/100\n",
      "35700/35700 [==============================] - 1s 20us/step - loss: 0.0903 - categorical_accuracy: 0.9724 - val_loss: 0.0963 - val_categorical_accuracy: 0.9727\n",
      "Epoch 34/100\n",
      "35700/35700 [==============================] - 1s 20us/step - loss: 0.0864 - categorical_accuracy: 0.9723 - val_loss: 0.0972 - val_categorical_accuracy: 0.9708\n",
      "Epoch 35/100\n",
      "35700/35700 [==============================] - 1s 23us/step - loss: 0.0829 - categorical_accuracy: 0.9729 - val_loss: 0.0950 - val_categorical_accuracy: 0.9722\n",
      "Epoch 36/100\n",
      "35700/35700 [==============================] - 1s 23us/step - loss: 0.0810 - categorical_accuracy: 0.9739 - val_loss: 0.1017 - val_categorical_accuracy: 0.9706\n",
      "Epoch 37/100\n",
      "35700/35700 [==============================] - 1s 23us/step - loss: 0.0795 - categorical_accuracy: 0.9752 - val_loss: 0.1032 - val_categorical_accuracy: 0.9719\n",
      "Epoch 38/100\n",
      "35700/35700 [==============================] - 1s 22us/step - loss: 0.0783 - categorical_accuracy: 0.9748 - val_loss: 0.1044 - val_categorical_accuracy: 0.9714\n",
      "Epoch 39/100\n",
      "35700/35700 [==============================] - 1s 22us/step - loss: 0.0770 - categorical_accuracy: 0.9754 - val_loss: 0.0983 - val_categorical_accuracy: 0.9735\n",
      "Epoch 40/100\n",
      "35700/35700 [==============================] - 1s 31us/step - loss: 0.0748 - categorical_accuracy: 0.9759 - val_loss: 0.0948 - val_categorical_accuracy: 0.9730\n",
      "Epoch 41/100\n",
      "35700/35700 [==============================] - 1s 29us/step - loss: 0.0750 - categorical_accuracy: 0.9761 - val_loss: 0.0993 - val_categorical_accuracy: 0.9717\n",
      "Epoch 42/100\n",
      "35700/35700 [==============================] - 1s 19us/step - loss: 0.0711 - categorical_accuracy: 0.9775 - val_loss: 0.0992 - val_categorical_accuracy: 0.9727\n",
      "Epoch 43/100\n",
      "35700/35700 [==============================] - 1s 27us/step - loss: 0.0696 - categorical_accuracy: 0.9767 - val_loss: 0.1071 - val_categorical_accuracy: 0.9716\n",
      "Epoch 44/100\n",
      "35700/35700 [==============================] - 1s 27us/step - loss: 0.0699 - categorical_accuracy: 0.9776 - val_loss: 0.0937 - val_categorical_accuracy: 0.9744\n",
      "Epoch 45/100\n",
      "35700/35700 [==============================] - 1s 19us/step - loss: 0.0667 - categorical_accuracy: 0.9786 - val_loss: 0.1017 - val_categorical_accuracy: 0.9729\n",
      "Epoch 46/100\n",
      "35700/35700 [==============================] - 1s 20us/step - loss: 0.0645 - categorical_accuracy: 0.9787 - val_loss: 0.0977 - val_categorical_accuracy: 0.9737\n",
      "Epoch 47/100\n",
      "35700/35700 [==============================] - 1s 17us/step - loss: 0.0659 - categorical_accuracy: 0.9791 - val_loss: 0.1137 - val_categorical_accuracy: 0.9703\n",
      "Epoch 48/100\n",
      "35700/35700 [==============================] - 1s 16us/step - loss: 0.0616 - categorical_accuracy: 0.9800 - val_loss: 0.1008 - val_categorical_accuracy: 0.9725\n",
      "Epoch 49/100\n",
      "35700/35700 [==============================] - 1s 17us/step - loss: 0.0622 - categorical_accuracy: 0.9799 - val_loss: 0.1041 - val_categorical_accuracy: 0.9721\n",
      "Epoch 50/100\n",
      "35700/35700 [==============================] - 1s 17us/step - loss: 0.0586 - categorical_accuracy: 0.9809 - val_loss: 0.1027 - val_categorical_accuracy: 0.9732\n",
      "Epoch 51/100\n",
      "35700/35700 [==============================] - 1s 17us/step - loss: 0.0611 - categorical_accuracy: 0.9803 - val_loss: 0.1008 - val_categorical_accuracy: 0.9741\n",
      "Epoch 52/100\n",
      "35700/35700 [==============================] - 1s 17us/step - loss: 0.0597 - categorical_accuracy: 0.9805 - val_loss: 0.0992 - val_categorical_accuracy: 0.9740\n",
      "Epoch 53/100\n",
      "35700/35700 [==============================] - 1s 18us/step - loss: 0.0599 - categorical_accuracy: 0.9802 - val_loss: 0.0994 - val_categorical_accuracy: 0.9738\n",
      "Epoch 54/100\n",
      "35700/35700 [==============================] - 1s 23us/step - loss: 0.0553 - categorical_accuracy: 0.9823 - val_loss: 0.1092 - val_categorical_accuracy: 0.9714\n",
      "Epoch 55/100\n",
      "35700/35700 [==============================] - 1s 24us/step - loss: 0.0569 - categorical_accuracy: 0.9820 - val_loss: 0.1147 - val_categorical_accuracy: 0.9727\n",
      "Epoch 56/100\n",
      "35700/35700 [==============================] - 1s 18us/step - loss: 0.0563 - categorical_accuracy: 0.9817 - val_loss: 0.1019 - val_categorical_accuracy: 0.9759\n",
      "Epoch 57/100\n",
      "35700/35700 [==============================] - 1s 21us/step - loss: 0.0540 - categorical_accuracy: 0.9828 - val_loss: 0.1008 - val_categorical_accuracy: 0.9743\n",
      "Epoch 58/100\n",
      "35700/35700 [==============================] - 1s 25us/step - loss: 0.0517 - categorical_accuracy: 0.9830 - val_loss: 0.1078 - val_categorical_accuracy: 0.9740\n",
      "Epoch 59/100\n",
      "35700/35700 [==============================] - 1s 33us/step - loss: 0.0538 - categorical_accuracy: 0.9828 - val_loss: 0.1085 - val_categorical_accuracy: 0.9740\n",
      "Epoch 60/100\n",
      "35700/35700 [==============================] - 1s 33us/step - loss: 0.0522 - categorical_accuracy: 0.9834 - val_loss: 0.1108 - val_categorical_accuracy: 0.9743\n",
      "Epoch 61/100\n",
      "35700/35700 [==============================] - 1s 32us/step - loss: 0.0510 - categorical_accuracy: 0.9834 - val_loss: 0.1096 - val_categorical_accuracy: 0.9754\n",
      "Epoch 62/100\n",
      "35700/35700 [==============================] - 1s 20us/step - loss: 0.0521 - categorical_accuracy: 0.9835 - val_loss: 0.1072 - val_categorical_accuracy: 0.9746\n",
      "Epoch 63/100\n",
      "35700/35700 [==============================] - 1s 21us/step - loss: 0.0511 - categorical_accuracy: 0.9831 - val_loss: 0.1090 - val_categorical_accuracy: 0.9746\n",
      "Epoch 64/100\n",
      "35700/35700 [==============================] - 1s 18us/step - loss: 0.0507 - categorical_accuracy: 0.9846 - val_loss: 0.1065 - val_categorical_accuracy: 0.9754\n",
      "Epoch 65/100\n",
      "35700/35700 [==============================] - 1s 17us/step - loss: 0.0470 - categorical_accuracy: 0.9848 - val_loss: 0.1023 - val_categorical_accuracy: 0.9756\n",
      "Epoch 66/100\n",
      "35700/35700 [==============================] - 1s 20us/step - loss: 0.0481 - categorical_accuracy: 0.9851 - val_loss: 0.1090 - val_categorical_accuracy: 0.9744\n",
      "Epoch 67/100\n",
      "35700/35700 [==============================] - 1s 18us/step - loss: 0.0443 - categorical_accuracy: 0.9853 - val_loss: 0.1082 - val_categorical_accuracy: 0.9754\n",
      "Epoch 68/100\n",
      "35700/35700 [==============================] - 1s 18us/step - loss: 0.0458 - categorical_accuracy: 0.9854 - val_loss: 0.1067 - val_categorical_accuracy: 0.9741\n",
      "Epoch 69/100\n",
      "35700/35700 [==============================] - 1s 17us/step - loss: 0.0431 - categorical_accuracy: 0.9864 - val_loss: 0.1090 - val_categorical_accuracy: 0.9763\n",
      "Epoch 70/100\n",
      "35700/35700 [==============================] - 1s 22us/step - loss: 0.0437 - categorical_accuracy: 0.9856 - val_loss: 0.1131 - val_categorical_accuracy: 0.9746\n",
      "Epoch 71/100\n",
      "35700/35700 [==============================] - 1s 34us/step - loss: 0.0444 - categorical_accuracy: 0.9852 - val_loss: 0.1129 - val_categorical_accuracy: 0.9752\n",
      "Epoch 72/100\n",
      "35700/35700 [==============================] - 1s 33us/step - loss: 0.0445 - categorical_accuracy: 0.9859 - val_loss: 0.1092 - val_categorical_accuracy: 0.9751\n",
      "Epoch 73/100\n",
      "35700/35700 [==============================] - 1s 21us/step - loss: 0.0422 - categorical_accuracy: 0.9871 - val_loss: 0.1116 - val_categorical_accuracy: 0.9754\n",
      "Epoch 74/100\n",
      "35700/35700 [==============================] - 1s 24us/step - loss: 0.0441 - categorical_accuracy: 0.9863 - val_loss: 0.1215 - val_categorical_accuracy: 0.9754\n",
      "Epoch 75/100\n",
      "35700/35700 [==============================] - 1s 22us/step - loss: 0.0399 - categorical_accuracy: 0.9864 - val_loss: 0.1238 - val_categorical_accuracy: 0.9744\n",
      "Epoch 76/100\n",
      "35700/35700 [==============================] - 1s 24us/step - loss: 0.0446 - categorical_accuracy: 0.9861 - val_loss: 0.1209 - val_categorical_accuracy: 0.9740\n",
      "Epoch 77/100\n",
      "35700/35700 [==============================] - 1s 33us/step - loss: 0.0421 - categorical_accuracy: 0.9863 - val_loss: 0.1123 - val_categorical_accuracy: 0.9738\n",
      "Epoch 78/100\n",
      "35700/35700 [==============================] - 1s 24us/step - loss: 0.0393 - categorical_accuracy: 0.9869 - val_loss: 0.1180 - val_categorical_accuracy: 0.9744\n",
      "Epoch 79/100\n",
      "35700/35700 [==============================] - 1s 21us/step - loss: 0.0418 - categorical_accuracy: 0.9869 - val_loss: 0.1135 - val_categorical_accuracy: 0.9751\n",
      "Epoch 80/100\n",
      "35700/35700 [==============================] - 1s 23us/step - loss: 0.0376 - categorical_accuracy: 0.9880 - val_loss: 0.1117 - val_categorical_accuracy: 0.9752\n",
      "Epoch 81/100\n",
      "35700/35700 [==============================] - 1s 22us/step - loss: 0.0392 - categorical_accuracy: 0.9871 - val_loss: 0.1244 - val_categorical_accuracy: 0.9733\n",
      "Epoch 82/100\n",
      "35700/35700 [==============================] - 1s 20us/step - loss: 0.0365 - categorical_accuracy: 0.9881 - val_loss: 0.1176 - val_categorical_accuracy: 0.9763\n",
      "Epoch 83/100\n",
      "35700/35700 [==============================] - 1s 21us/step - loss: 0.0371 - categorical_accuracy: 0.9874 - val_loss: 0.1166 - val_categorical_accuracy: 0.9748\n",
      "Epoch 84/100\n",
      "35700/35700 [==============================] - 1s 23us/step - loss: 0.0384 - categorical_accuracy: 0.9878 - val_loss: 0.1220 - val_categorical_accuracy: 0.9744\n",
      "Epoch 85/100\n",
      "35700/35700 [==============================] - 1s 34us/step - loss: 0.0342 - categorical_accuracy: 0.9890 - val_loss: 0.1170 - val_categorical_accuracy: 0.9756\n",
      "Epoch 86/100\n",
      "35700/35700 [==============================] - 1s 21us/step - loss: 0.0388 - categorical_accuracy: 0.9880 - val_loss: 0.1157 - val_categorical_accuracy: 0.9762\n",
      "Epoch 87/100\n",
      "35700/35700 [==============================] - 1s 20us/step - loss: 0.0351 - categorical_accuracy: 0.9886 - val_loss: 0.1159 - val_categorical_accuracy: 0.9775\n",
      "Epoch 88/100\n",
      "35700/35700 [==============================] - 1s 20us/step - loss: 0.0363 - categorical_accuracy: 0.9889 - val_loss: 0.1279 - val_categorical_accuracy: 0.9762\n",
      "Epoch 89/100\n",
      "35700/35700 [==============================] - 1s 20us/step - loss: 0.0363 - categorical_accuracy: 0.9884 - val_loss: 0.1198 - val_categorical_accuracy: 0.9757\n",
      "Epoch 90/100\n",
      "35700/35700 [==============================] - 1s 17us/step - loss: 0.0339 - categorical_accuracy: 0.9891 - val_loss: 0.1286 - val_categorical_accuracy: 0.9763\n",
      "Epoch 91/100\n",
      "35700/35700 [==============================] - 1s 19us/step - loss: 0.0328 - categorical_accuracy: 0.9901 - val_loss: 0.1316 - val_categorical_accuracy: 0.9744\n",
      "Epoch 92/100\n",
      "35700/35700 [==============================] - 1s 18us/step - loss: 0.0336 - categorical_accuracy: 0.9899 - val_loss: 0.1203 - val_categorical_accuracy: 0.9767\n",
      "Epoch 93/100\n",
      "35700/35700 [==============================] - 1s 18us/step - loss: 0.0329 - categorical_accuracy: 0.9901 - val_loss: 0.1262 - val_categorical_accuracy: 0.9754\n",
      "Epoch 94/100\n",
      "35700/35700 [==============================] - 1s 16us/step - loss: 0.0340 - categorical_accuracy: 0.9890 - val_loss: 0.1272 - val_categorical_accuracy: 0.9752\n",
      "Epoch 95/100\n"
     ]
    },
    {
     "name": "stdout",
     "output_type": "stream",
     "text": [
      "35700/35700 [==============================] - 1s 17us/step - loss: 0.0321 - categorical_accuracy: 0.9902 - val_loss: 0.1258 - val_categorical_accuracy: 0.9757\n",
      "Epoch 96/100\n",
      "35700/35700 [==============================] - 1s 17us/step - loss: 0.0355 - categorical_accuracy: 0.9894 - val_loss: 0.1329 - val_categorical_accuracy: 0.9754\n",
      "Epoch 97/100\n",
      "35700/35700 [==============================] - 1s 22us/step - loss: 0.0328 - categorical_accuracy: 0.9896 - val_loss: 0.1202 - val_categorical_accuracy: 0.9771\n",
      "Epoch 98/100\n",
      "35700/35700 [==============================] - 1s 22us/step - loss: 0.0306 - categorical_accuracy: 0.9907 - val_loss: 0.1291 - val_categorical_accuracy: 0.9756\n",
      "Epoch 99/100\n",
      "35700/35700 [==============================] - 1s 28us/step - loss: 0.0315 - categorical_accuracy: 0.9903 - val_loss: 0.1306 - val_categorical_accuracy: 0.9756\n",
      "Epoch 100/100\n",
      "35700/35700 [==============================] - 1s 23us/step - loss: 0.0296 - categorical_accuracy: 0.9908 - val_loss: 0.1336 - val_categorical_accuracy: 0.9754\n"
     ]
    },
    {
     "data": {
      "text/plain": [
       "<keras.callbacks.History at 0x12f222048>"
      ]
     },
     "execution_count": 91,
     "metadata": {},
     "output_type": "execute_result"
    }
   ],
   "source": [
    "model.fit(X_pca_train, Y_train, epochs=100, batch_size=256, validation_split=0.15)"
   ]
  },
  {
   "cell_type": "markdown",
   "metadata": {},
   "source": [
    "Acuratetea in jur de 97%"
   ]
  },
  {
   "cell_type": "code",
   "execution_count": 115,
   "metadata": {
    "collapsed": true
   },
   "outputs": [],
   "source": [
    "predictions = model.predict_classes(X_pca_test, verbose=0)\n"
   ]
  },
  {
   "cell_type": "markdown",
   "metadata": {
    "collapsed": true
   },
   "source": [
    " "
   ]
  },
  {
   "cell_type": "markdown",
   "metadata": {
    "collapsed": true
   },
   "source": [
    " Vom incerca o testare vizuala in acesta parte a proiectului afisand predictia facuta de PCA -MLP, iar apoi imaginea"
   ]
  },
  {
   "cell_type": "code",
   "execution_count": 113,
   "metadata": {},
   "outputs": [
    {
     "name": "stdout",
     "output_type": "stream",
     "text": [
      "Predictie : 3\n"
     ]
    },
    {
     "data": {
      "image/png": "[encoded data removed]",
      "text/plain": [
       "<matplotlib.figure.Figure at 0x131228048>"
      ]
     },
     "metadata": {},
     "output_type": "display_data"
    },
    {
     "name": "stdout",
     "output_type": "stream",
     "text": [
      "Predictie : 8\n"
     ]
    },
    {
     "data": {
      "image/png": "[encoded data removed]",
      "text/plain": [
       "<matplotlib.figure.Figure at 0x130a9b358>"
      ]
     },
     "metadata": {},
     "output_type": "display_data"
    },
    {
     "name": "stdout",
     "output_type": "stream",
     "text": [
      "Predictie : 9\n"
     ]
    },
    {
     "data": {
      "image/png": "[encoded data removed]",
      "text/plain": [
       "<matplotlib.figure.Figure at 0x12f1f35c0>"
      ]
     },
     "metadata": {},
     "output_type": "display_data"
    },
    {
     "name": "stdout",
     "output_type": "stream",
     "text": [
      "Predictie : 2\n"
     ]
    },
    {
     "data": {
      "image/png": "[encoded data removed]",
      "text/plain": [
       "<matplotlib.figure.Figure at 0x12fbb3160>"
      ]
     },
     "metadata": {},
     "output_type": "display_data"
    },
    {
     "name": "stdout",
     "output_type": "stream",
     "text": [
      "Predictie : 4\n"
     ]
    },
    {
     "data": {
      "image/png": "[encoded data removed]",
      "text/plain": [
       "<matplotlib.figure.Figure at 0x12f1c5a58>"
      ]
     },
     "metadata": {},
     "output_type": "display_data"
    },
    {
     "name": "stdout",
     "output_type": "stream",
     "text": [
      "Predictie : 6\n"
     ]
    },
    {
     "data": {
      "image/png": "[encoded data removed]",
      "text/plain": [
       "<matplotlib.figure.Figure at 0x12f288400>"
      ]
     },
     "metadata": {},
     "output_type": "display_data"
    },
    {
     "name": "stdout",
     "output_type": "stream",
     "text": [
      "Predictie : 8\n"
     ]
    },
    {
     "data": {
      "image/png": "[encoded data removed]",
      "text/plain": [
       "<matplotlib.figure.Figure at 0x12f2cf780>"
      ]
     },
     "metadata": {},
     "output_type": "display_data"
    },
    {
     "name": "stdout",
     "output_type": "stream",
     "text": [
      "Predictie : 2\n"
     ]
    },
    {
     "data": {
      "image/png": "[encoded data removed]",
      "text/plain": [
       "<matplotlib.figure.Figure at 0x12fc2e240>"
      ]
     },
     "metadata": {},
     "output_type": "display_data"
    },
    {
     "name": "stdout",
     "output_type": "stream",
     "text": [
      "Predictie : 9\n"
     ]
    },
    {
     "data": {
      "image/png": "[encoded data removed]",
      "text/plain": [
       "<matplotlib.figure.Figure at 0x12fd69438>"
      ]
     },
     "metadata": {},
     "output_type": "display_data"
    },
    {
     "name": "stdout",
     "output_type": "stream",
     "text": [
      "Predictie : 8\n"
     ]
    },
    {
     "data": {
      "image/png": "[encoded data removed]",
      "text/plain": [
       "<matplotlib.figure.Figure at 0x12fc381d0>"
      ]
     },
     "metadata": {},
     "output_type": "display_data"
    }
   ],
   "source": [
    "numere_aleatore = random.sample(range(1, 28000), 10)\n",
    "\n",
    "\n",
    "for i in numere_aleatore:\n",
    "    plt.imshow(X_test[i].reshape(28,28))\n",
    "    print('Predictie :', predictions[i])\n",
    "    plt.show()"
   ]
  },
  {
   "cell_type": "code",
   "execution_count": null,
   "metadata": {
    "collapsed": true
   },
   "outputs": [],
   "source": []
  },
  {
   "cell_type": "code",
   "execution_count": null,
   "metadata": {
    "collapsed": true
   },
   "outputs": [],
   "source": []
  },
  {
   "cell_type": "code",
   "execution_count": null,
   "metadata": {
    "collapsed": true
   },
   "outputs": [],
   "source": []
  },
  {
   "cell_type": "code",
   "execution_count": null,
   "metadata": {
    "collapsed": true
   },
   "outputs": [],
   "source": []
  },
  {
   "cell_type": "code",
   "execution_count": null,
   "metadata": {
    "collapsed": true
   },
   "outputs": [],
   "source": []
  },
  {
   "cell_type": "code",
   "execution_count": null,
   "metadata": {
    "collapsed": true
   },
   "outputs": [],
   "source": []
  }
 ],
 "metadata": {
  "kernelspec": {
   "display_name": "Python 3",
   "language": "python",
   "name": "python3"
  },
  "language_info": {
   "codemirror_mode": {
    "name": "ipython",
    "version": 3
   },
   "file_extension": ".py",
   "mimetype": "text/x-python",
   "name": "python",
   "nbconvert_exporter": "python",
   "pygments_lexer": "ipython3",
   "version": "3.5.4"
  }
 },
 "nbformat": 4,
 "nbformat_minor": 2
}
