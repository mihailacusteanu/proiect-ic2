{
 "cells": [
  {
   "cell_type": "markdown",
   "metadata": {},
   "source": [
    "<h1><center>Proiect IC2</center></h1>\n"
   ]
  },
  {
   "cell_type": "markdown",
   "metadata": {},
   "source": [
    "#### Studenti:"
   ]
  },
  {
   "cell_type": "markdown",
   "metadata": {},
   "source": [
    "###  Mihai Lacusteanu"
   ]
  },
  {
   "cell_type": "markdown",
   "metadata": {},
   "source": [
    "### Alexandru-Florian Ion "
   ]
  },
  {
   "cell_type": "markdown",
   "metadata": {},
   "source": [
    " "
   ]
  },
  {
   "cell_type": "markdown",
   "metadata": {},
   "source": [
    " "
   ]
  },
  {
   "cell_type": "markdown",
   "metadata": {},
   "source": [
    "#### Profesor: "
   ]
  },
  {
   "cell_type": "markdown",
   "metadata": {},
   "source": [
    "### Victor-Emil Neagoe"
   ]
  },
  {
   "cell_type": "markdown",
   "metadata": {},
   "source": [
    " "
   ]
  },
  {
   "cell_type": "markdown",
   "metadata": {},
   "source": [
    " "
   ]
  },
  {
   "cell_type": "markdown",
   "metadata": {},
   "source": [
    " "
   ]
  },
  {
   "cell_type": "markdown",
   "metadata": {
    "collapsed": true
   },
   "source": [
    "  "
   ]
  },
  {
   "cell_type": "markdown",
   "metadata": {},
   "source": [
    "### Importare biblioteci necesare"
   ]
  },
  {
   "cell_type": "markdown",
   "metadata": {},
   "source": [
    " "
   ]
  },
  {
   "cell_type": "code",
   "execution_count": 1,
   "metadata": {},
   "outputs": [
    {
     "name": "stderr",
     "output_type": "stream",
     "text": [
      "Using TensorFlow backend.\n"
     ]
    }
   ],
   "source": [
    "import numpy as np\n",
    "import pandas as pd\n",
    "\n",
    "from sklearn.preprocessing import StandardScaler\n",
    "from sklearn.decomposition import PCA\n",
    "\n",
    "from keras.models import Sequential\n",
    "from keras.utils import np_utils\n",
    "from keras.layers import Dense, Dropout, GaussianNoise, Conv1D\n",
    "from keras.preprocessing.image import ImageDataGenerator\n",
    "\n",
    "import matplotlib.pyplot as plt\n",
    "import seaborn as sns\n",
    "%matplotlib inline\n",
    "from keras.datasets import mnist\n",
    "import random"
   ]
  },
  {
   "cell_type": "markdown",
   "metadata": {},
   "source": [
    "### Citirea datelor (fisiere .csv)"
   ]
  },
  {
   "cell_type": "code",
   "execution_count": 2,
   "metadata": {
    "collapsed": true
   },
   "outputs": [],
   "source": [
    "test = pd.read_csv('test.csv')\n",
    "train = pd.read_csv('train.csv')"
   ]
  },
  {
   "cell_type": "markdown",
   "metadata": {},
   "source": [
    " "
   ]
  },
  {
   "cell_type": "markdown",
   "metadata": {},
   "source": [
    " "
   ]
  },
  {
   "cell_type": "markdown",
   "metadata": {},
   "source": [
    "### Prelucrarea datelor pentru a putea fi introduse in reteaua MLP"
   ]
  },
  {
   "cell_type": "code",
   "execution_count": 3,
   "metadata": {
    "collapsed": true
   },
   "outputs": [],
   "source": [
    "Y_train = train['label'].values.astype('int32')\n",
    "Y_train = np_utils.to_categorical(Y_train) \n",
    "train.drop(['label'], axis=1, inplace=True)\n",
    "\n",
    "X_train = (train.values).astype('float32')\n",
    "X_test = (test.values).astype('float32')\n",
    "\n",
    "\n",
    "# Codul de mai sus poate fi usor inlocuit cu urmatoarea comanda pe care o vom demonstra in exemplul cu MLP\n",
    "# (X_train, Y_train), (X_test, Y_test) = mnist.load_data() \n",
    "\n",
    "\n",
    "scaler = StandardScaler()\n",
    "scaler.fit(X_train)\n",
    "X_sc_train = scaler.transform(X_train)\n",
    "X_sc_test = scaler.transform(X_test)"
   ]
  },
  {
   "cell_type": "markdown",
   "metadata": {},
   "source": [
    " "
   ]
  },
  {
   "cell_type": "markdown",
   "metadata": {},
   "source": [
    " "
   ]
  },
  {
   "cell_type": "code",
   "execution_count": 4,
   "metadata": {},
   "outputs": [
    {
     "name": "stdout",
     "output_type": "stream",
     "text": [
      "Y_train are formatul: [1. 0. 0. 0. 0. 0. 0. 0. 0. 0.]\n",
      "Se pune 1 in dreptul cifrei corecte.\n",
      "Spre exemplu mai sus avem o iesire corespunzatoare cifrei 0\n"
     ]
    },
    {
     "data": {
      "image/png": "[encoded data removed]",
      "text/plain": [
       "<matplotlib.figure.Figure at 0x128590320>"
      ]
     },
     "metadata": {},
     "output_type": "display_data"
    }
   ],
   "source": [
    "print('Y_train are formatul: {}'.format(Y_train[1]))\n",
    "print('Se pune 1 in dreptul cifrei corecte.')\n",
    "print('Spre exemplu mai sus avem o iesire corespunzatoare cifrei 0')\n",
    "plt.imshow(X_train[1].reshape(28,28))\n",
    "plt.show()"
   ]
  },
  {
   "cell_type": "markdown",
   "metadata": {},
   "source": [
    "### Aproximare numar componente PCA"
   ]
  },
  {
   "cell_type": "code",
   "execution_count": 6,
   "metadata": {},
   "outputs": [
    {
     "data": {
      "text/plain": [
       "<matplotlib.text.Text at 0x1262c7da0>"
      ]
     },
     "execution_count": 6,
     "metadata": {},
     "output_type": "execute_result"
    },
    {
     "data": {
      "image/png": "[encoded data removed]",
      "text/plain": [
       "<matplotlib.figure.Figure at 0x128509b38>"
      ]
     },
     "metadata": {},
     "output_type": "display_data"
    }
   ],
   "source": [
    "pca = PCA(n_components=500)\n",
    "pca.fit(X_train)\n",
    "\n",
    "plt.plot(np.cumsum(pca.explained_variance_ratio_))\n",
    "plt.xlabel('Numar de componente')\n",
    "plt.ylabel('Varianta')"
   ]
  },
  {
   "cell_type": "markdown",
   "metadata": {
    "collapsed": true
   },
   "source": [
    " ##### Observam mai sus ca 100 de componente ar fi o valoare decenta a micsora volumul de calcule si in acelasi timp pentru a avea o acuratete mare"
   ]
  },
  {
   "cell_type": "markdown",
   "metadata": {},
   "source": [
    "# PCA "
   ]
  },
  {
   "cell_type": "code",
   "execution_count": 7,
   "metadata": {
    "collapsed": true
   },
   "outputs": [],
   "source": [
    "componente_pca = 85\n",
    "\n",
    "pca = PCA(n_components=componente_pca)\n",
    "X_pca_train = pca.fit_transform(X_sc_train)\n",
    "X_pca_test = pca.transform(X_sc_test)\n",
    "pca_std = np.std(X_pca_train)\n",
    "\n"
   ]
  },
  {
   "cell_type": "code",
   "execution_count": 8,
   "metadata": {
    "collapsed": true
   },
   "outputs": [],
   "source": [
    "inv_pca = pca.inverse_transform(X_pca_train)\n",
    "inv_sc = scaler.inverse_transform(inv_pca)"
   ]
  },
  {
   "cell_type": "code",
   "execution_count": 9,
   "metadata": {},
   "outputs": [
    {
     "data": {
      "image/png": "[encoded data removed]",
      "text/plain": [
       "<matplotlib.figure.Figure at 0x128300940>"
      ]
     },
     "metadata": {},
     "output_type": "display_data"
    },
    {
     "data": {
      "image/png": "[encoded data removed]",
      "text/plain": [
       "<matplotlib.figure.Figure at 0x1278e4c18>"
      ]
     },
     "metadata": {},
     "output_type": "display_data"
    },
    {
     "data": {
      "image/png": "[encoded data removed]",
      "text/plain": [
       "<matplotlib.figure.Figure at 0x1177f0588>"
      ]
     },
     "metadata": {},
     "output_type": "display_data"
    },
    {
     "data": {
      "image/png": "[encoded data removed]",
      "text/plain": [
       "<matplotlib.figure.Figure at 0x1269e8c50>"
      ]
     },
     "metadata": {},
     "output_type": "display_data"
    },
    {
     "data": {
      "image/png": "[encoded data removed]",
      "text/plain": [
       "<matplotlib.figure.Figure at 0x12790a550>"
      ]
     },
     "metadata": {},
     "output_type": "display_data"
    },
    {
     "data": {
      "image/png": "[encoded data removed]",
      "text/plain": [
       "<matplotlib.figure.Figure at 0x126cb3550>"
      ]
     },
     "metadata": {},
     "output_type": "display_data"
    },
    {
     "data": {
      "image/png": "[encoded data removed]",
      "text/plain": [
       "<matplotlib.figure.Figure at 0x126cb70b8>"
      ]
     },
     "metadata": {},
     "output_type": "display_data"
    },
    {
     "data": {
      "image/png": "[encoded data removed]",
      "text/plain": [
       "<matplotlib.figure.Figure at 0x1262f0048>"
      ]
     },
     "metadata": {},
     "output_type": "display_data"
    },
    {
     "data": {
      "image/png": "[encoded data removed]",
      "text/plain": [
       "<matplotlib.figure.Figure at 0x1178210f0>"
      ]
     },
     "metadata": {},
     "output_type": "display_data"
    }
   ],
   "source": [
    "def side_by_side(indexes):\n",
    "    org = X_train[indexes].reshape(28,28)\n",
    "    rec = inv_sc[indexes].reshape(28,28)\n",
    "    pair = np.concatenate((org, rec), axis=1)\n",
    "    plt.figure(figsize=(4,2))\n",
    "    plt.imshow(pair)\n",
    "    plt.show()\n",
    "    \n",
    "for index in range(1,10):\n",
    "    side_by_side(index)"
   ]
  },
  {
   "cell_type": "markdown",
   "metadata": {},
   "source": [
    "#### Dupa cate putem observa mai sus, alegand doar 100 de componente din cele 784 (imagini de 28x28 pixeli) putem imaginile nu sunt distorsionate mult si sunt inca usor de recunoscut, \"compresia\" fiind foarte buna"
   ]
  },
  {
   "cell_type": "markdown",
   "metadata": {},
   "source": [
    " "
   ]
  },
  {
   "cell_type": "markdown",
   "metadata": {},
   "source": [
    "### Creare retea PCA - MLP  "
   ]
  },
  {
   "cell_type": "code",
   "execution_count": null,
   "metadata": {},
   "outputs": [
    {
     "name": "stdout",
     "output_type": "stream",
     "text": [
      "_________________________________________________________________\n",
      "Layer (type)                 Output Shape              Param #   \n",
      "=================================================================\n",
      "dense_1 (Dense)              (None, 128)               11008     \n",
      "_________________________________________________________________\n",
      "gaussian_noise_1 (GaussianNo (None, 128)               0         \n",
      "_________________________________________________________________\n",
      "dense_2 (Dense)              (None, 128)               16512     \n",
      "_________________________________________________________________\n",
      "gaussian_noise_2 (GaussianNo (None, 128)               0         \n",
      "_________________________________________________________________\n",
      "dropout_1 (Dropout)          (None, 128)               0         \n",
      "_________________________________________________________________\n",
      "dense_3 (Dense)              (None, 10)                1290      \n",
      "=================================================================\n",
      "Total params: 28,810\n",
      "Trainable params: 28,810\n",
      "Non-trainable params: 0\n",
      "_________________________________________________________________\n"
     ]
    }
   ],
   "source": [
    "model = Sequential()\n",
    "layers = 1\n",
    "units = 128\n",
    "\n",
    "model.add(Dense(units, input_dim=componente_pca, activation='relu'))\n",
    "model.add(GaussianNoise(pca_std))\n",
    "for i in range(layers):\n",
    "    model.add(Dense(units, activation='relu'))\n",
    "    model.add(GaussianNoise(pca_std))\n",
    "    model.add(Dropout(0.1))\n",
    "model.add(Dense(10, activation='softmax'))\n",
    "\n",
    "model.compile(loss='categorical_crossentropy', optimizer='rmsprop', metrics=['categorical_accuracy'])\n",
    "model.summary()\n"
   ]
  },
  {
   "cell_type": "markdown",
   "metadata": {},
   "source": [
    "### Antrenare PCA - MLP"
   ]
  },
  {
   "cell_type": "code",
   "execution_count": null,
   "metadata": {},
   "outputs": [
    {
     "name": "stdout",
     "output_type": "stream",
     "text": [
      "Train on 35700 samples, validate on 6300 samples\n",
      "Epoch 1/100\n",
      "35700/35700 [==============================] - 1s 31us/step - loss: 2.6933 - categorical_accuracy: 0.4771 - val_loss: 0.4269 - val_categorical_accuracy: 0.8821\n",
      "Epoch 2/100\n",
      "35700/35700 [==============================] - 1s 18us/step - loss: 0.9067 - categorical_accuracy: 0.7805 - val_loss: 0.3284 - val_categorical_accuracy: 0.9124\n",
      "Epoch 3/100\n",
      "35700/35700 [==============================] - 1s 17us/step - loss: 0.5775 - categorical_accuracy: 0.8437 - val_loss: 0.2785 - val_categorical_accuracy: 0.9208\n",
      "Epoch 4/100\n",
      "35700/35700 [==============================] - 1s 18us/step - loss: 0.4365 - categorical_accuracy: 0.8725 - val_loss: 0.2370 - val_categorical_accuracy: 0.9330\n",
      "Epoch 5/100\n",
      "35700/35700 [==============================] - 1s 18us/step - loss: 0.3561 - categorical_accuracy: 0.8924 - val_loss: 0.2059 - val_categorical_accuracy: 0.9383\n",
      "Epoch 6/100\n",
      "35700/35700 [==============================] - 1s 17us/step - loss: 0.3105 - categorical_accuracy: 0.9041 - val_loss: 0.1871 - val_categorical_accuracy: 0.9443\n",
      "Epoch 7/100\n",
      "35700/35700 [==============================] - 1s 17us/step - loss: 0.2721 - categorical_accuracy: 0.9154 - val_loss: 0.1794 - val_categorical_accuracy: 0.9457\n",
      "Epoch 8/100\n",
      "35700/35700 [==============================] - 1s 17us/step - loss: 0.2488 - categorical_accuracy: 0.9220 - val_loss: 0.1593 - val_categorical_accuracy: 0.9513\n",
      "Epoch 9/100\n",
      "35700/35700 [==============================] - 1s 17us/step - loss: 0.2313 - categorical_accuracy: 0.9283 - val_loss: 0.1563 - val_categorical_accuracy: 0.9524\n",
      "Epoch 10/100\n",
      "35700/35700 [==============================] - 1s 18us/step - loss: 0.2122 - categorical_accuracy: 0.9335 - val_loss: 0.1439 - val_categorical_accuracy: 0.9552\n",
      "Epoch 11/100\n",
      "35700/35700 [==============================] - 1s 19us/step - loss: 0.1941 - categorical_accuracy: 0.9382 - val_loss: 0.1412 - val_categorical_accuracy: 0.9576\n",
      "Epoch 12/100\n",
      "35700/35700 [==============================] - 1s 19us/step - loss: 0.1879 - categorical_accuracy: 0.9409 - val_loss: 0.1306 - val_categorical_accuracy: 0.9584\n",
      "Epoch 13/100\n",
      "35700/35700 [==============================] - 1s 22us/step - loss: 0.1785 - categorical_accuracy: 0.9430 - val_loss: 0.1353 - val_categorical_accuracy: 0.9587\n",
      "Epoch 14/100\n",
      "35700/35700 [==============================] - 1s 23us/step - loss: 0.1703 - categorical_accuracy: 0.9475 - val_loss: 0.1196 - val_categorical_accuracy: 0.9644\n",
      "Epoch 15/100\n",
      "35700/35700 [==============================] - 1s 18us/step - loss: 0.1597 - categorical_accuracy: 0.9499 - val_loss: 0.1172 - val_categorical_accuracy: 0.9640\n",
      "Epoch 16/100\n",
      "35700/35700 [==============================] - 1s 18us/step - loss: 0.1555 - categorical_accuracy: 0.9515 - val_loss: 0.1189 - val_categorical_accuracy: 0.9635\n",
      "Epoch 17/100\n",
      "35700/35700 [==============================] - 1s 21us/step - loss: 0.1457 - categorical_accuracy: 0.9539 - val_loss: 0.1161 - val_categorical_accuracy: 0.9644\n",
      "Epoch 18/100\n",
      "35700/35700 [==============================] - 1s 18us/step - loss: 0.1451 - categorical_accuracy: 0.9537 - val_loss: 0.1106 - val_categorical_accuracy: 0.9651\n",
      "Epoch 19/100\n",
      "35700/35700 [==============================] - 1s 18us/step - loss: 0.1373 - categorical_accuracy: 0.9562 - val_loss: 0.1116 - val_categorical_accuracy: 0.9662\n",
      "Epoch 20/100\n",
      "14336/35700 [===========>..................] - ETA: 0s - loss: 0.1343 - categorical_accuracy: 0.9575"
     ]
    }
   ],
   "source": [
    "model.fit(X_pca_train, Y_train, epochs=100, batch_size=256, validation_split=0.15)"
   ]
  },
  {
   "cell_type": "markdown",
   "metadata": {},
   "source": [
    "Acuratetea in jur de "
   ]
  },
  {
   "cell_type": "code",
   "execution_count": null,
   "metadata": {
    "collapsed": true
   },
   "outputs": [],
   "source": [
    "predictions = model.predict_classes(X_pca_test, verbose=0)\n"
   ]
  },
  {
   "cell_type": "markdown",
   "metadata": {
    "collapsed": true
   },
   "source": [
    " "
   ]
  },
  {
   "cell_type": "markdown",
   "metadata": {
    "collapsed": true
   },
   "source": [
    " Vom incerca o testare vizuala in acesta parte a proiectului afisand predictia facuta de PCA -MLP, iar apoi imaginea"
   ]
  },
  {
   "cell_type": "code",
   "execution_count": null,
   "metadata": {},
   "outputs": [],
   "source": [
    "numere_aleatore = random.sample(range(1, 28000), 10)\n",
    "\n",
    "\n",
    "for i in numere_aleatore:\n",
    "    plt.imshow(X_test[i].reshape(28,28))\n",
    "    print('Predictie :', predictions[i])\n",
    "    plt.show()"
   ]
  },
  {
   "cell_type": "code",
   "execution_count": null,
   "metadata": {
    "collapsed": true
   },
   "outputs": [],
   "source": []
  },
  {
   "cell_type": "code",
   "execution_count": null,
   "metadata": {
    "collapsed": true
   },
   "outputs": [],
   "source": []
  },
  {
   "cell_type": "code",
   "execution_count": null,
   "metadata": {
    "collapsed": true
   },
   "outputs": [],
   "source": []
  },
  {
   "cell_type": "code",
   "execution_count": null,
   "metadata": {
    "collapsed": true
   },
   "outputs": [],
   "source": []
  },
  {
   "cell_type": "code",
   "execution_count": null,
   "metadata": {
    "collapsed": true
   },
   "outputs": [],
   "source": []
  },
  {
   "cell_type": "code",
   "execution_count": null,
   "metadata": {
    "collapsed": true
   },
   "outputs": [],
   "source": []
  }
 ],
 "metadata": {
  "kernelspec": {
   "display_name": "Python 3",
   "language": "python",
   "name": "python3"
  },
  "language_info": {
   "codemirror_mode": {
    "name": "ipython",
    "version": 3
   },
   "file_extension": ".py",
   "mimetype": "text/x-python",
   "name": "python",
   "nbconvert_exporter": "python",
   "pygments_lexer": "ipython3",
   "version": "3.5.4"
  }
 },
 "nbformat": 4,
 "nbformat_minor": 2
}
