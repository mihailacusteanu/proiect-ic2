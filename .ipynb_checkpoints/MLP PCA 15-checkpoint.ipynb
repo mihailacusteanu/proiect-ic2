{
 "cells": [
  {
   "cell_type": "markdown",
   "metadata": {},
   "source": [
    "<h1><center>Proiect IC2</center></h1>\n"
   ]
  },
  {
   "cell_type": "markdown",
   "metadata": {},
   "source": [
    "#### Studenti:"
   ]
  },
  {
   "cell_type": "markdown",
   "metadata": {},
   "source": [
    "###  Mihai Lacusteanu"
   ]
  },
  {
   "cell_type": "markdown",
   "metadata": {},
   "source": [
    "### Alexandru-Florian Ion "
   ]
  },
  {
   "cell_type": "markdown",
   "metadata": {},
   "source": [
    " "
   ]
  },
  {
   "cell_type": "markdown",
   "metadata": {},
   "source": [
    " "
   ]
  },
  {
   "cell_type": "markdown",
   "metadata": {},
   "source": [
    "#### Profesor: "
   ]
  },
  {
   "cell_type": "markdown",
   "metadata": {},
   "source": [
    "### Victor-Emil Neagoe"
   ]
  },
  {
   "cell_type": "markdown",
   "metadata": {},
   "source": [
    " "
   ]
  },
  {
   "cell_type": "markdown",
   "metadata": {},
   "source": [
    " "
   ]
  },
  {
   "cell_type": "markdown",
   "metadata": {},
   "source": [
    " "
   ]
  },
  {
   "cell_type": "markdown",
   "metadata": {
    "collapsed": true
   },
   "source": [
    "  "
   ]
  },
  {
   "cell_type": "markdown",
   "metadata": {},
   "source": [
    "### Importare biblioteci necesare"
   ]
  },
  {
   "cell_type": "markdown",
   "metadata": {},
   "source": [
    " "
   ]
  },
  {
   "cell_type": "code",
   "execution_count": 13,
   "metadata": {},
   "outputs": [],
   "source": [
    "import numpy as np\n",
    "import pandas as pd\n",
    "\n",
    "from sklearn.preprocessing import StandardScaler\n",
    "from sklearn.decomposition import PCA\n",
    "\n",
    "from keras.models import Sequential\n",
    "from keras.utils import np_utils\n",
    "from keras.layers import Dense, Dropout, GaussianNoise, Conv1D\n",
    "from keras.preprocessing.image import ImageDataGenerator\n",
    "\n",
    "import matplotlib.pyplot as plt\n",
    "import seaborn as sns\n",
    "%matplotlib inline\n",
    "from keras.datasets import mnist\n",
    "import random"
   ]
  },
  {
   "cell_type": "markdown",
   "metadata": {},
   "source": [
    "### Citirea datelor (fisiere .csv)"
   ]
  },
  {
   "cell_type": "code",
   "execution_count": 14,
   "metadata": {
    "collapsed": true
   },
   "outputs": [],
   "source": [
    "test = pd.read_csv('test.csv')\n",
    "train = pd.read_csv('train.csv')"
   ]
  },
  {
   "cell_type": "markdown",
   "metadata": {},
   "source": [
    " "
   ]
  },
  {
   "cell_type": "markdown",
   "metadata": {},
   "source": [
    " "
   ]
  },
  {
   "cell_type": "markdown",
   "metadata": {},
   "source": [
    "### Prelucrarea datelor pentru a putea fi introduse in reteaua MLP"
   ]
  },
  {
   "cell_type": "code",
   "execution_count": 15,
   "metadata": {
    "collapsed": true
   },
   "outputs": [],
   "source": [
    "Y_train = train['label'].values.astype('int32')\n",
    "Y_train = np_utils.to_categorical(Y_train) \n",
    "train.drop(['label'], axis=1, inplace=True)\n",
    "\n",
    "X_train = (train.values).astype('float32')\n",
    "X_test = (test.values).astype('float32')\n",
    "\n",
    "\n",
    "# Codul de mai sus poate fi usor inlocuit cu urmatoarea comanda pe care o vom demonstra in exemplul cu MLP\n",
    "# (X_train, Y_train), (X_test, Y_test) = mnist.load_data() \n",
    "\n",
    "\n",
    "scaler = StandardScaler()\n",
    "scaler.fit(X_train)\n",
    "X_sc_train = scaler.transform(X_train)\n",
    "X_sc_test = scaler.transform(X_test)"
   ]
  },
  {
   "cell_type": "markdown",
   "metadata": {},
   "source": [
    " "
   ]
  },
  {
   "cell_type": "markdown",
   "metadata": {},
   "source": [
    " "
   ]
  },
  {
   "cell_type": "code",
   "execution_count": 16,
   "metadata": {},
   "outputs": [
    {
     "name": "stdout",
     "output_type": "stream",
     "text": [
      "Y_train are formatul: [1. 0. 0. 0. 0. 0. 0. 0. 0. 0.]\n",
      "Se pune 1 in dreptul cifrei corecte.\n",
      "Spre exemplu mai sus avem o iesire corespunzatoare cifrei 0\n"
     ]
    },
    {
     "data": {
      "image/png": "[encoded data removed]",
      "text/plain": [
       "<matplotlib.figure.Figure at 0x1249fa0f0>"
      ]
     },
     "metadata": {},
     "output_type": "display_data"
    }
   ],
   "source": [
    "print('Y_train are formatul: {}'.format(Y_train[1]))\n",
    "print('Se pune 1 in dreptul cifrei corecte.')\n",
    "print('Spre exemplu mai sus avem o iesire corespunzatoare cifrei 0')\n",
    "plt.imshow(X_train[1].reshape(28,28))\n",
    "plt.show()"
   ]
  },
  {
   "cell_type": "markdown",
   "metadata": {},
   "source": [
    "### Aproximare numar componente PCA"
   ]
  },
  {
   "cell_type": "code",
   "execution_count": 17,
   "metadata": {},
   "outputs": [
    {
     "data": {
      "text/plain": [
       "<matplotlib.text.Text at 0x125d21048>"
      ]
     },
     "execution_count": 17,
     "metadata": {},
     "output_type": "execute_result"
    },
    {
     "data": {
      "image/png": "[encoded data removed]",
      "text/plain": [
       "<matplotlib.figure.Figure at 0x126a57c88>"
      ]
     },
     "metadata": {},
     "output_type": "display_data"
    }
   ],
   "source": [
    "pca = PCA(n_components=500)\n",
    "pca.fit(X_train)\n",
    "\n",
    "plt.plot(np.cumsum(pca.explained_variance_ratio_))\n",
    "plt.xlabel('Numar de componente')\n",
    "plt.ylabel('Varianta')"
   ]
  },
  {
   "cell_type": "markdown",
   "metadata": {
    "collapsed": true
   },
   "source": [
    " ##### Observam mai sus ca 100 de componente ar fi o valoare decenta a micsora volumul de calcule si in acelasi timp pentru a avea o acuratete mare"
   ]
  },
  {
   "cell_type": "markdown",
   "metadata": {},
   "source": [
    "# PCA "
   ]
  },
  {
   "cell_type": "code",
   "execution_count": 18,
   "metadata": {
    "collapsed": true
   },
   "outputs": [],
   "source": [
    "componente_pca = 85\n",
    "\n",
    "pca = PCA(n_components=componente_pca)\n",
    "X_pca_train = pca.fit_transform(X_sc_train)\n",
    "X_pca_test = pca.transform(X_sc_test)\n",
    "pca_std = np.std(X_pca_train)\n",
    "\n"
   ]
  },
  {
   "cell_type": "code",
   "execution_count": 19,
   "metadata": {
    "collapsed": true
   },
   "outputs": [],
   "source": [
    "inv_pca = pca.inverse_transform(X_pca_train)\n",
    "inv_sc = scaler.inverse_transform(inv_pca)"
   ]
  },
  {
   "cell_type": "code",
   "execution_count": 20,
   "metadata": {},
   "outputs": [
    {
     "data": {
      "image/png": "[encoded data removed]",
      "text/plain": [
       "<matplotlib.figure.Figure at 0x125c26a58>"
      ]
     },
     "metadata": {},
     "output_type": "display_data"
    },
    {
     "data": {
      "image/png": "[encoded data removed]",
      "text/plain": [
       "<matplotlib.figure.Figure at 0x125abc5c0>"
      ]
     },
     "metadata": {},
     "output_type": "display_data"
    },
    {
     "data": {
      "image/png": "[encoded data removed]",
      "text/plain": [
       "<matplotlib.figure.Figure at 0x125c86198>"
      ]
     },
     "metadata": {},
     "output_type": "display_data"
    },
    {
     "data": {
      "image/png": "[encoded data removed]",
      "text/plain": [
       "<matplotlib.figure.Figure at 0x125d469b0>"
      ]
     },
     "metadata": {},
     "output_type": "display_data"
    },
    {
     "data": {
      "image/png": "[encoded data removed]",
      "text/plain": [
       "<matplotlib.figure.Figure at 0x125186c50>"
      ]
     },
     "metadata": {},
     "output_type": "display_data"
    },
    {
     "data": {
      "image/png": "[encoded data removed]",
      "text/plain": [
       "<matplotlib.figure.Figure at 0x12666d278>"
      ]
     },
     "metadata": {},
     "output_type": "display_data"
    },
    {
     "data": {
      "image/png": "[encoded data removed]",
      "text/plain": [
       "<matplotlib.figure.Figure at 0x1265b75c0>"
      ]
     },
     "metadata": {},
     "output_type": "display_data"
    },
    {
     "data": {
      "image/png": "[encoded data removed]",
      "text/plain": [
       "<matplotlib.figure.Figure at 0x125491860>"
      ]
     },
     "metadata": {},
     "output_type": "display_data"
    },
    {
     "data": {
      "image/png": "[encoded data removed]",
      "text/plain": [
       "<matplotlib.figure.Figure at 0x1250e4780>"
      ]
     },
     "metadata": {},
     "output_type": "display_data"
    }
   ],
   "source": [
    "def side_by_side(indexes):\n",
    "    org = X_train[indexes].reshape(28,28)\n",
    "    rec = inv_sc[indexes].reshape(28,28)\n",
    "    pair = np.concatenate((org, rec), axis=1)\n",
    "    plt.figure(figsize=(4,2))\n",
    "    plt.imshow(pair)\n",
    "    plt.show()\n",
    "    \n",
    "for index in range(1,10):\n",
    "    side_by_side(index)"
   ]
  },
  {
   "cell_type": "markdown",
   "metadata": {},
   "source": [
    "#### Dupa cate putem observa mai sus, alegand doar 100 de componente din cele 784 (imagini de 28x28 pixeli) putem imaginile nu sunt distorsionate mult si sunt inca usor de recunoscut, \"compresia\" fiind foarte buna"
   ]
  },
  {
   "cell_type": "markdown",
   "metadata": {},
   "source": [
    " "
   ]
  },
  {
   "cell_type": "markdown",
   "metadata": {},
   "source": [
    "### Creare retea PCA - MLP  "
   ]
  },
  {
   "cell_type": "code",
   "execution_count": 21,
   "metadata": {},
   "outputs": [
    {
     "name": "stdout",
     "output_type": "stream",
     "text": [
      "_________________________________________________________________\n",
      "Layer (type)                 Output Shape              Param #   \n",
      "=================================================================\n",
      "dense_4 (Dense)              (None, 128)               11008     \n",
      "_________________________________________________________________\n",
      "gaussian_noise_3 (GaussianNo (None, 128)               0         \n",
      "_________________________________________________________________\n",
      "dense_5 (Dense)              (None, 128)               16512     \n",
      "_________________________________________________________________\n",
      "gaussian_noise_4 (GaussianNo (None, 128)               0         \n",
      "_________________________________________________________________\n",
      "dropout_2 (Dropout)          (None, 128)               0         \n",
      "_________________________________________________________________\n",
      "dense_6 (Dense)              (None, 10)                1290      \n",
      "=================================================================\n",
      "Total params: 28,810\n",
      "Trainable params: 28,810\n",
      "Non-trainable params: 0\n",
      "_________________________________________________________________\n"
     ]
    }
   ],
   "source": [
    "model = Sequential()\n",
    "layers = 1\n",
    "units = 128\n",
    "\n",
    "model.add(Dense(units, input_dim=componente_pca, activation='relu'))\n",
    "model.add(GaussianNoise(pca_std))\n",
    "for i in range(layers):\n",
    "    model.add(Dense(units, activation='relu'))\n",
    "    model.add(GaussianNoise(pca_std))\n",
    "    model.add(Dropout(0.1))\n",
    "model.add(Dense(10, activation='softmax'))\n",
    "\n",
    "model.compile(loss='categorical_crossentropy', optimizer='rmsprop', metrics=['categorical_accuracy'])\n",
    "model.summary()\n"
   ]
  },
  {
   "cell_type": "markdown",
   "metadata": {},
   "source": [
    "### Antrenare PCA - MLP"
   ]
  },
  {
   "cell_type": "code",
   "execution_count": 22,
   "metadata": {},
   "outputs": [
    {
     "name": "stdout",
     "output_type": "stream",
     "text": [
      "Train on 35700 samples, validate on 6300 samples\n",
      "Epoch 1/100\n",
      "35700/35700 [==============================] - 2s 51us/step - loss: 2.5733 - categorical_accuracy: 0.4763 - val_loss: 0.4313 - val_categorical_accuracy: 0.8794\n",
      "Epoch 2/100\n",
      "35700/35700 [==============================] - 1s 32us/step - loss: 0.8863 - categorical_accuracy: 0.7779 - val_loss: 0.3440 - val_categorical_accuracy: 0.9062\n",
      "Epoch 3/100\n",
      "35700/35700 [==============================] - 1s 32us/step - loss: 0.5792 - categorical_accuracy: 0.8397 - val_loss: 0.2800 - val_categorical_accuracy: 0.9163\n",
      "Epoch 4/100\n",
      "35700/35700 [==============================] - 1s 39us/step - loss: 0.4400 - categorical_accuracy: 0.8712 - val_loss: 0.2528 - val_categorical_accuracy: 0.9219\n",
      "Epoch 5/100\n",
      "35700/35700 [==============================] - 1s 33us/step - loss: 0.3610 - categorical_accuracy: 0.8916 - val_loss: 0.2073 - val_categorical_accuracy: 0.9365\n",
      "Epoch 6/100\n",
      "35700/35700 [==============================] - 1s 33us/step - loss: 0.3155 - categorical_accuracy: 0.9036 - val_loss: 0.1930 - val_categorical_accuracy: 0.9403\n",
      "Epoch 7/100\n",
      "35700/35700 [==============================] - 1s 32us/step - loss: 0.2707 - categorical_accuracy: 0.9143 - val_loss: 0.1777 - val_categorical_accuracy: 0.9456\n",
      "Epoch 8/100\n",
      "35700/35700 [==============================] - 1s 32us/step - loss: 0.2504 - categorical_accuracy: 0.9227 - val_loss: 0.1682 - val_categorical_accuracy: 0.9471\n",
      "Epoch 9/100\n",
      "35700/35700 [==============================] - 1s 32us/step - loss: 0.2330 - categorical_accuracy: 0.9279 - val_loss: 0.1713 - val_categorical_accuracy: 0.9465\n",
      "Epoch 10/100\n",
      "35700/35700 [==============================] - 1s 31us/step - loss: 0.2116 - categorical_accuracy: 0.9340 - val_loss: 0.1516 - val_categorical_accuracy: 0.9525\n",
      "Epoch 11/100\n",
      "35700/35700 [==============================] - 1s 32us/step - loss: 0.1990 - categorical_accuracy: 0.9385 - val_loss: 0.1414 - val_categorical_accuracy: 0.9562\n",
      "Epoch 12/100\n",
      "35700/35700 [==============================] - 1s 34us/step - loss: 0.1864 - categorical_accuracy: 0.9418 - val_loss: 0.1418 - val_categorical_accuracy: 0.9551\n",
      "Epoch 13/100\n",
      "35700/35700 [==============================] - 1s 33us/step - loss: 0.1825 - categorical_accuracy: 0.9427 - val_loss: 0.1350 - val_categorical_accuracy: 0.9565\n",
      "Epoch 14/100\n",
      "35700/35700 [==============================] - 1s 32us/step - loss: 0.1738 - categorical_accuracy: 0.9455 - val_loss: 0.1216 - val_categorical_accuracy: 0.9616\n",
      "Epoch 15/100\n",
      "35700/35700 [==============================] - 1s 32us/step - loss: 0.1649 - categorical_accuracy: 0.9484 - val_loss: 0.1264 - val_categorical_accuracy: 0.9605\n",
      "Epoch 16/100\n",
      "35700/35700 [==============================] - 1s 32us/step - loss: 0.1537 - categorical_accuracy: 0.9515 - val_loss: 0.1135 - val_categorical_accuracy: 0.9627\n",
      "Epoch 17/100\n",
      "35700/35700 [==============================] - 1s 33us/step - loss: 0.1517 - categorical_accuracy: 0.9522 - val_loss: 0.1185 - val_categorical_accuracy: 0.9637\n",
      "Epoch 18/100\n",
      "35700/35700 [==============================] - 1s 33us/step - loss: 0.1500 - categorical_accuracy: 0.9537 - val_loss: 0.1180 - val_categorical_accuracy: 0.9638\n",
      "Epoch 19/100\n",
      "35700/35700 [==============================] - 1s 32us/step - loss: 0.1444 - categorical_accuracy: 0.9542 - val_loss: 0.1080 - val_categorical_accuracy: 0.9668\n",
      "Epoch 20/100\n",
      "35700/35700 [==============================] - 1s 32us/step - loss: 0.1383 - categorical_accuracy: 0.9560 - val_loss: 0.1250 - val_categorical_accuracy: 0.9624\n",
      "Epoch 21/100\n",
      "35700/35700 [==============================] - 1s 25us/step - loss: 0.1367 - categorical_accuracy: 0.9565 - val_loss: 0.1237 - val_categorical_accuracy: 0.9629\n",
      "Epoch 22/100\n",
      "35700/35700 [==============================] - 1s 27us/step - loss: 0.1355 - categorical_accuracy: 0.9578 - val_loss: 0.1198 - val_categorical_accuracy: 0.9640\n",
      "Epoch 23/100\n",
      "35700/35700 [==============================] - 1s 28us/step - loss: 0.1303 - categorical_accuracy: 0.9603 - val_loss: 0.1172 - val_categorical_accuracy: 0.9656\n",
      "Epoch 24/100\n",
      "35700/35700 [==============================] - 1s 27us/step - loss: 0.1264 - categorical_accuracy: 0.9602 - val_loss: 0.1112 - val_categorical_accuracy: 0.9675\n",
      "Epoch 25/100\n",
      "35700/35700 [==============================] - 1s 27us/step - loss: 0.1224 - categorical_accuracy: 0.9625 - val_loss: 0.1103 - val_categorical_accuracy: 0.9694\n",
      "Epoch 26/100\n",
      "35700/35700 [==============================] - 1s 24us/step - loss: 0.1204 - categorical_accuracy: 0.9629 - val_loss: 0.1053 - val_categorical_accuracy: 0.9689\n",
      "Epoch 27/100\n",
      "35700/35700 [==============================] - 1s 22us/step - loss: 0.1162 - categorical_accuracy: 0.9640 - val_loss: 0.1078 - val_categorical_accuracy: 0.9703\n",
      "Epoch 28/100\n",
      "35700/35700 [==============================] - 1s 22us/step - loss: 0.1156 - categorical_accuracy: 0.9633 - val_loss: 0.1042 - val_categorical_accuracy: 0.9700\n",
      "Epoch 29/100\n",
      "35700/35700 [==============================] - 1s 22us/step - loss: 0.1148 - categorical_accuracy: 0.9648 - val_loss: 0.1143 - val_categorical_accuracy: 0.9676\n",
      "Epoch 30/100\n",
      "35700/35700 [==============================] - 1s 23us/step - loss: 0.1114 - categorical_accuracy: 0.9653 - val_loss: 0.1016 - val_categorical_accuracy: 0.9692\n",
      "Epoch 31/100\n",
      "35700/35700 [==============================] - 1s 22us/step - loss: 0.1079 - categorical_accuracy: 0.9668 - val_loss: 0.0972 - val_categorical_accuracy: 0.9717\n",
      "Epoch 32/100\n",
      "35700/35700 [==============================] - 1s 22us/step - loss: 0.1082 - categorical_accuracy: 0.9672 - val_loss: 0.1132 - val_categorical_accuracy: 0.9678\n",
      "Epoch 33/100\n",
      "35700/35700 [==============================] - 1s 22us/step - loss: 0.1071 - categorical_accuracy: 0.9660 - val_loss: 0.1174 - val_categorical_accuracy: 0.9668\n",
      "Epoch 34/100\n",
      "35700/35700 [==============================] - 1s 22us/step - loss: 0.1036 - categorical_accuracy: 0.9684 - val_loss: 0.1127 - val_categorical_accuracy: 0.9694\n",
      "Epoch 35/100\n",
      "35700/35700 [==============================] - 1s 23us/step - loss: 0.1021 - categorical_accuracy: 0.9688 - val_loss: 0.1045 - val_categorical_accuracy: 0.9716\n",
      "Epoch 36/100\n",
      "35700/35700 [==============================] - 1s 23us/step - loss: 0.0969 - categorical_accuracy: 0.9698 - val_loss: 0.1116 - val_categorical_accuracy: 0.9717\n",
      "Epoch 37/100\n",
      "35700/35700 [==============================] - 1s 22us/step - loss: 0.0997 - categorical_accuracy: 0.9701 - val_loss: 0.1003 - val_categorical_accuracy: 0.9732\n",
      "Epoch 38/100\n",
      "35700/35700 [==============================] - 1s 22us/step - loss: 0.0935 - categorical_accuracy: 0.9711 - val_loss: 0.1163 - val_categorical_accuracy: 0.9676\n",
      "Epoch 39/100\n",
      "35700/35700 [==============================] - 1s 22us/step - loss: 0.0905 - categorical_accuracy: 0.9711 - val_loss: 0.1114 - val_categorical_accuracy: 0.9703\n",
      "Epoch 40/100\n",
      "35700/35700 [==============================] - 1s 22us/step - loss: 0.0917 - categorical_accuracy: 0.9720 - val_loss: 0.1199 - val_categorical_accuracy: 0.9702\n",
      "Epoch 41/100\n",
      "35700/35700 [==============================] - 1s 22us/step - loss: 0.0910 - categorical_accuracy: 0.9720 - val_loss: 0.0990 - val_categorical_accuracy: 0.9735\n",
      "Epoch 42/100\n",
      "35700/35700 [==============================] - 1s 22us/step - loss: 0.0922 - categorical_accuracy: 0.9722 - val_loss: 0.0993 - val_categorical_accuracy: 0.9730\n",
      "Epoch 43/100\n",
      "35700/35700 [==============================] - 1s 22us/step - loss: 0.0885 - categorical_accuracy: 0.9733 - val_loss: 0.1156 - val_categorical_accuracy: 0.9698\n",
      "Epoch 44/100\n",
      "35700/35700 [==============================] - 1s 22us/step - loss: 0.0882 - categorical_accuracy: 0.9728 - val_loss: 0.1130 - val_categorical_accuracy: 0.9713\n",
      "Epoch 45/100\n",
      "35700/35700 [==============================] - 1s 22us/step - loss: 0.0811 - categorical_accuracy: 0.9750 - val_loss: 0.1263 - val_categorical_accuracy: 0.9668\n",
      "Epoch 46/100\n",
      "35700/35700 [==============================] - 1s 22us/step - loss: 0.0823 - categorical_accuracy: 0.9751 - val_loss: 0.1304 - val_categorical_accuracy: 0.9668\n",
      "Epoch 47/100\n",
      "35700/35700 [==============================] - 1s 23us/step - loss: 0.0869 - categorical_accuracy: 0.9752 - val_loss: 0.1028 - val_categorical_accuracy: 0.9740\n",
      "Epoch 48/100\n"
     ]
    },
    {
     "name": "stdout",
     "output_type": "stream",
     "text": [
      "35700/35700 [==============================] - 1s 24us/step - loss: 0.0861 - categorical_accuracy: 0.9746 - val_loss: 0.1159 - val_categorical_accuracy: 0.9714\n",
      "Epoch 49/100\n",
      "35700/35700 [==============================] - 1s 23us/step - loss: 0.0828 - categorical_accuracy: 0.9755 - val_loss: 0.1042 - val_categorical_accuracy: 0.9737\n",
      "Epoch 50/100\n",
      "35700/35700 [==============================] - 1s 22us/step - loss: 0.0793 - categorical_accuracy: 0.9765 - val_loss: 0.1013 - val_categorical_accuracy: 0.9746\n",
      "Epoch 51/100\n",
      "35700/35700 [==============================] - 1s 22us/step - loss: 0.0805 - categorical_accuracy: 0.9766 - val_loss: 0.1200 - val_categorical_accuracy: 0.9719\n",
      "Epoch 52/100\n",
      "35700/35700 [==============================] - 1s 23us/step - loss: 0.0813 - categorical_accuracy: 0.9762 - val_loss: 0.1038 - val_categorical_accuracy: 0.9748\n",
      "Epoch 53/100\n",
      "35700/35700 [==============================] - 1s 22us/step - loss: 0.0787 - categorical_accuracy: 0.9759 - val_loss: 0.1114 - val_categorical_accuracy: 0.9738\n",
      "Epoch 54/100\n",
      "35700/35700 [==============================] - 1s 22us/step - loss: 0.0808 - categorical_accuracy: 0.9768 - val_loss: 0.1018 - val_categorical_accuracy: 0.9751\n",
      "Epoch 55/100\n",
      "35700/35700 [==============================] - 1s 22us/step - loss: 0.0754 - categorical_accuracy: 0.9763 - val_loss: 0.1194 - val_categorical_accuracy: 0.9738\n",
      "Epoch 56/100\n",
      "35700/35700 [==============================] - 1s 22us/step - loss: 0.0754 - categorical_accuracy: 0.9779 - val_loss: 0.1172 - val_categorical_accuracy: 0.9732\n",
      "Epoch 57/100\n",
      "35700/35700 [==============================] - 1s 22us/step - loss: 0.0765 - categorical_accuracy: 0.9781 - val_loss: 0.1141 - val_categorical_accuracy: 0.9737\n",
      "Epoch 58/100\n",
      "35700/35700 [==============================] - 1s 22us/step - loss: 0.0767 - categorical_accuracy: 0.9785 - val_loss: 0.1129 - val_categorical_accuracy: 0.9744\n",
      "Epoch 59/100\n",
      "35700/35700 [==============================] - 1s 22us/step - loss: 0.0731 - categorical_accuracy: 0.9782 - val_loss: 0.1138 - val_categorical_accuracy: 0.9735\n",
      "Epoch 60/100\n",
      "35700/35700 [==============================] - 1s 22us/step - loss: 0.0747 - categorical_accuracy: 0.9785 - val_loss: 0.1213 - val_categorical_accuracy: 0.9729\n",
      "Epoch 61/100\n",
      "35700/35700 [==============================] - 1s 22us/step - loss: 0.0706 - categorical_accuracy: 0.9792 - val_loss: 0.1178 - val_categorical_accuracy: 0.9756\n",
      "Epoch 62/100\n",
      "35700/35700 [==============================] - 1s 22us/step - loss: 0.0702 - categorical_accuracy: 0.9794 - val_loss: 0.1164 - val_categorical_accuracy: 0.9751\n",
      "Epoch 63/100\n",
      "35700/35700 [==============================] - 1s 22us/step - loss: 0.0753 - categorical_accuracy: 0.9778 - val_loss: 0.1225 - val_categorical_accuracy: 0.9716\n",
      "Epoch 64/100\n",
      "35700/35700 [==============================] - 1s 19us/step - loss: 0.0691 - categorical_accuracy: 0.9785 - val_loss: 0.1143 - val_categorical_accuracy: 0.9752\n",
      "Epoch 65/100\n",
      "35700/35700 [==============================] - 1s 19us/step - loss: 0.0643 - categorical_accuracy: 0.9804 - val_loss: 0.1153 - val_categorical_accuracy: 0.9749\n",
      "Epoch 66/100\n",
      "35700/35700 [==============================] - 1s 19us/step - loss: 0.0641 - categorical_accuracy: 0.9802 - val_loss: 0.1099 - val_categorical_accuracy: 0.9746\n",
      "Epoch 67/100\n",
      "35700/35700 [==============================] - 1s 17us/step - loss: 0.0663 - categorical_accuracy: 0.9794 - val_loss: 0.1083 - val_categorical_accuracy: 0.9763\n",
      "Epoch 68/100\n",
      "35700/35700 [==============================] - 1s 16us/step - loss: 0.0606 - categorical_accuracy: 0.9811 - val_loss: 0.1126 - val_categorical_accuracy: 0.9754\n",
      "Epoch 69/100\n",
      "35700/35700 [==============================] - 1s 16us/step - loss: 0.0627 - categorical_accuracy: 0.9813 - val_loss: 0.1289 - val_categorical_accuracy: 0.9743\n",
      "Epoch 70/100\n",
      "35700/35700 [==============================] - 1s 16us/step - loss: 0.0603 - categorical_accuracy: 0.9817 - val_loss: 0.1317 - val_categorical_accuracy: 0.9733\n",
      "Epoch 71/100\n",
      "35700/35700 [==============================] - 1s 16us/step - loss: 0.0573 - categorical_accuracy: 0.9822 - val_loss: 0.1284 - val_categorical_accuracy: 0.9741\n",
      "Epoch 72/100\n",
      "35700/35700 [==============================] - 1s 16us/step - loss: 0.0617 - categorical_accuracy: 0.9823 - val_loss: 0.1164 - val_categorical_accuracy: 0.9749\n",
      "Epoch 73/100\n",
      "35700/35700 [==============================] - 1s 15us/step - loss: 0.0548 - categorical_accuracy: 0.9834 - val_loss: 0.1162 - val_categorical_accuracy: 0.9767\n",
      "Epoch 74/100\n",
      "35700/35700 [==============================] - 1s 16us/step - loss: 0.0544 - categorical_accuracy: 0.9838 - val_loss: 0.1222 - val_categorical_accuracy: 0.9746\n",
      "Epoch 75/100\n",
      "35700/35700 [==============================] - 1s 15us/step - loss: 0.0563 - categorical_accuracy: 0.9833 - val_loss: 0.1132 - val_categorical_accuracy: 0.9771\n",
      "Epoch 76/100\n",
      "35700/35700 [==============================] - 1s 16us/step - loss: 0.0587 - categorical_accuracy: 0.9826 - val_loss: 0.1184 - val_categorical_accuracy: 0.9756\n",
      "Epoch 77/100\n",
      "35700/35700 [==============================] - 1s 16us/step - loss: 0.0548 - categorical_accuracy: 0.9837 - val_loss: 0.1074 - val_categorical_accuracy: 0.9765\n",
      "Epoch 78/100\n",
      "35700/35700 [==============================] - 1s 15us/step - loss: 0.0534 - categorical_accuracy: 0.9845 - val_loss: 0.1160 - val_categorical_accuracy: 0.9751\n",
      "Epoch 79/100\n",
      "35700/35700 [==============================] - 1s 16us/step - loss: 0.0542 - categorical_accuracy: 0.9842 - val_loss: 0.1130 - val_categorical_accuracy: 0.9765\n",
      "Epoch 80/100\n",
      "35700/35700 [==============================] - 1s 16us/step - loss: 0.0566 - categorical_accuracy: 0.9831 - val_loss: 0.1118 - val_categorical_accuracy: 0.9765\n",
      "Epoch 81/100\n",
      "35700/35700 [==============================] - 1s 16us/step - loss: 0.0498 - categorical_accuracy: 0.9852 - val_loss: 0.1280 - val_categorical_accuracy: 0.9754\n",
      "Epoch 82/100\n",
      "35700/35700 [==============================] - 1s 16us/step - loss: 0.0509 - categorical_accuracy: 0.9848 - val_loss: 0.1174 - val_categorical_accuracy: 0.9775\n",
      "Epoch 83/100\n",
      "35700/35700 [==============================] - 1s 16us/step - loss: 0.0487 - categorical_accuracy: 0.9850 - val_loss: 0.1257 - val_categorical_accuracy: 0.9733\n",
      "Epoch 84/100\n",
      "35700/35700 [==============================] - 1s 16us/step - loss: 0.0467 - categorical_accuracy: 0.9860 - val_loss: 0.1227 - val_categorical_accuracy: 0.9770\n",
      "Epoch 85/100\n",
      "35700/35700 [==============================] - 1s 16us/step - loss: 0.0506 - categorical_accuracy: 0.9846 - val_loss: 0.1186 - val_categorical_accuracy: 0.9762\n",
      "Epoch 86/100\n",
      "35700/35700 [==============================] - 1s 16us/step - loss: 0.0515 - categorical_accuracy: 0.9850 - val_loss: 0.1121 - val_categorical_accuracy: 0.9779\n",
      "Epoch 87/100\n",
      "35700/35700 [==============================] - 1s 16us/step - loss: 0.0480 - categorical_accuracy: 0.9853 - val_loss: 0.1129 - val_categorical_accuracy: 0.9786\n",
      "Epoch 88/100\n",
      "35700/35700 [==============================] - 1s 17us/step - loss: 0.0454 - categorical_accuracy: 0.9863 - val_loss: 0.1235 - val_categorical_accuracy: 0.9760\n",
      "Epoch 89/100\n",
      "35700/35700 [==============================] - 1s 20us/step - loss: 0.0506 - categorical_accuracy: 0.9848 - val_loss: 0.1239 - val_categorical_accuracy: 0.9775\n",
      "Epoch 90/100\n",
      "35700/35700 [==============================] - 1s 17us/step - loss: 0.0460 - categorical_accuracy: 0.9863 - val_loss: 0.1188 - val_categorical_accuracy: 0.9783\n",
      "Epoch 91/100\n",
      "35700/35700 [==============================] - 1s 17us/step - loss: 0.0424 - categorical_accuracy: 0.9867 - val_loss: 0.1229 - val_categorical_accuracy: 0.9771\n",
      "Epoch 92/100\n",
      "35700/35700 [==============================] - 1s 16us/step - loss: 0.0490 - categorical_accuracy: 0.9855 - val_loss: 0.1192 - val_categorical_accuracy: 0.9786\n",
      "Epoch 93/100\n",
      "35700/35700 [==============================] - 1s 17us/step - loss: 0.0445 - categorical_accuracy: 0.9867 - val_loss: 0.1260 - val_categorical_accuracy: 0.9767\n",
      "Epoch 94/100\n",
      "35700/35700 [==============================] - 1s 17us/step - loss: 0.0449 - categorical_accuracy: 0.9865 - val_loss: 0.1516 - val_categorical_accuracy: 0.9717\n",
      "Epoch 95/100\n"
     ]
    },
    {
     "name": "stdout",
     "output_type": "stream",
     "text": [
      "35700/35700 [==============================] - 1s 17us/step - loss: 0.0453 - categorical_accuracy: 0.9860 - val_loss: 0.1212 - val_categorical_accuracy: 0.9773\n",
      "Epoch 96/100\n",
      "35700/35700 [==============================] - 1s 18us/step - loss: 0.0406 - categorical_accuracy: 0.9881 - val_loss: 0.1214 - val_categorical_accuracy: 0.9776\n",
      "Epoch 97/100\n",
      "35700/35700 [==============================] - 1s 16us/step - loss: 0.0463 - categorical_accuracy: 0.9861 - val_loss: 0.1224 - val_categorical_accuracy: 0.9765\n",
      "Epoch 98/100\n",
      "35700/35700 [==============================] - 1s 18us/step - loss: 0.0445 - categorical_accuracy: 0.9866 - val_loss: 0.1294 - val_categorical_accuracy: 0.9732\n",
      "Epoch 99/100\n",
      "35700/35700 [==============================] - 1s 19us/step - loss: 0.0444 - categorical_accuracy: 0.9870 - val_loss: 0.1358 - val_categorical_accuracy: 0.9752\n",
      "Epoch 100/100\n",
      "35700/35700 [==============================] - 1s 18us/step - loss: 0.0435 - categorical_accuracy: 0.9876 - val_loss: 0.1214 - val_categorical_accuracy: 0.9770\n"
     ]
    },
    {
     "data": {
      "text/plain": [
       "<keras.callbacks.History at 0x1265be898>"
      ]
     },
     "execution_count": 22,
     "metadata": {},
     "output_type": "execute_result"
    }
   ],
   "source": [
    "model.fit(X_pca_train, Y_train, epochs=100, batch_size=256, validation_split=0.15)"
   ]
  },
  {
   "cell_type": "markdown",
   "metadata": {},
   "source": [
    "Acuratetea in jur de "
   ]
  },
  {
   "cell_type": "code",
   "execution_count": 23,
   "metadata": {
    "collapsed": true
   },
   "outputs": [],
   "source": [
    "predictions = model.predict_classes(X_pca_test, verbose=0)\n"
   ]
  },
  {
   "cell_type": "markdown",
   "metadata": {
    "collapsed": true
   },
   "source": [
    " "
   ]
  },
  {
   "cell_type": "markdown",
   "metadata": {
    "collapsed": true
   },
   "source": [
    " Vom incerca o testare vizuala in acesta parte a proiectului afisand predictia facuta de PCA -MLP, iar apoi imaginea"
   ]
  },
  {
   "cell_type": "code",
   "execution_count": 24,
   "metadata": {},
   "outputs": [
    {
     "name": "stdout",
     "output_type": "stream",
     "text": [
      "Predictie : 5\n"
     ]
    },
    {
     "data": {
      "image/png": "[encoded data removed]",
      "text/plain": [
       "<matplotlib.figure.Figure at 0x125a6d780>"
      ]
     },
     "metadata": {},
     "output_type": "display_data"
    },
    {
     "name": "stdout",
     "output_type": "stream",
     "text": [
      "Predictie : 1\n"
     ]
    },
    {
     "data": {
      "image/png": "[encoded data removed]",
      "text/plain": [
       "<matplotlib.figure.Figure at 0x1254a6b70>"
      ]
     },
     "metadata": {},
     "output_type": "display_data"
    },
    {
     "name": "stdout",
     "output_type": "stream",
     "text": [
      "Predictie : 4\n"
     ]
    },
    {
     "data": {
      "image/png": "[encoded data removed]",
      "text/plain": [
       "<matplotlib.figure.Figure at 0x126602f98>"
      ]
     },
     "metadata": {},
     "output_type": "display_data"
    },
    {
     "name": "stdout",
     "output_type": "stream",
     "text": [
      "Predictie : 5\n"
     ]
    },
    {
     "data": {
      "image/png": "[encoded data removed]",
      "text/plain": [
       "<matplotlib.figure.Figure at 0x125908c50>"
      ]
     },
     "metadata": {},
     "output_type": "display_data"
    },
    {
     "name": "stdout",
     "output_type": "stream",
     "text": [
      "Predictie : 3\n"
     ]
    },
    {
     "data": {
      "image/png": "[encoded data removed]",
      "text/plain": [
       "<matplotlib.figure.Figure at 0x125e0a898>"
      ]
     },
     "metadata": {},
     "output_type": "display_data"
    },
    {
     "name": "stdout",
     "output_type": "stream",
     "text": [
      "Predictie : 3\n"
     ]
    },
    {
     "data": {
      "image/png": "[encoded data removed]",
      "text/plain": [
       "<matplotlib.figure.Figure at 0x125462630>"
      ]
     },
     "metadata": {},
     "output_type": "display_data"
    },
    {
     "name": "stdout",
     "output_type": "stream",
     "text": [
      "Predictie : 7\n"
     ]
    },
    {
     "data": {
      "image/png": "[encoded data removed]",
      "text/plain": [
       "<matplotlib.figure.Figure at 0x125e0a630>"
      ]
     },
     "metadata": {},
     "output_type": "display_data"
    },
    {
     "name": "stdout",
     "output_type": "stream",
     "text": [
      "Predictie : 4\n"
     ]
    },
    {
     "data": {
      "image/png": "[encoded data removed]",
      "text/plain": [
       "<matplotlib.figure.Figure at 0x1266c5cc0>"
      ]
     },
     "metadata": {},
     "output_type": "display_data"
    },
    {
     "name": "stdout",
     "output_type": "stream",
     "text": [
      "Predictie : 9\n"
     ]
    },
    {
     "data": {
      "image/png": "[encoded data removed]",
      "text/plain": [
       "<matplotlib.figure.Figure at 0x1265c22e8>"
      ]
     },
     "metadata": {},
     "output_type": "display_data"
    },
    {
     "name": "stdout",
     "output_type": "stream",
     "text": [
      "Predictie : 6\n"
     ]
    },
    {
     "data": {
      "image/png": "[encoded data removed]",
      "text/plain": [
       "<matplotlib.figure.Figure at 0x104f86e10>"
      ]
     },
     "metadata": {},
     "output_type": "display_data"
    }
   ],
   "source": [
    "numere_aleatore = random.sample(range(1, 28000), 10)\n",
    "\n",
    "\n",
    "for i in numere_aleatore:\n",
    "    plt.imshow(X_test[i].reshape(28,28))\n",
    "    print('Predictie :', predictions[i])\n",
    "    plt.show()"
   ]
  },
  {
   "cell_type": "code",
   "execution_count": null,
   "metadata": {
    "collapsed": true
   },
   "outputs": [],
   "source": []
  },
  {
   "cell_type": "code",
   "execution_count": null,
   "metadata": {
    "collapsed": true
   },
   "outputs": [],
   "source": []
  },
  {
   "cell_type": "code",
   "execution_count": null,
   "metadata": {
    "collapsed": true
   },
   "outputs": [],
   "source": []
  },
  {
   "cell_type": "code",
   "execution_count": null,
   "metadata": {
    "collapsed": true
   },
   "outputs": [],
   "source": []
  },
  {
   "cell_type": "code",
   "execution_count": null,
   "metadata": {
    "collapsed": true
   },
   "outputs": [],
   "source": []
  },
  {
   "cell_type": "code",
   "execution_count": null,
   "metadata": {
    "collapsed": true
   },
   "outputs": [],
   "source": []
  },
  {
   "cell_type": "code",
   "execution_count": null,
   "metadata": {
    "collapsed": true
   },
   "outputs": [],
   "source": []
  },
  {
   "cell_type": "code",
   "execution_count": null,
   "metadata": {
    "collapsed": true
   },
   "outputs": [],
   "source": []
  },
  {
   "cell_type": "code",
   "execution_count": null,
   "metadata": {
    "collapsed": true
   },
   "outputs": [],
   "source": []
  },
  {
   "cell_type": "code",
   "execution_count": null,
   "metadata": {
    "collapsed": true
   },
   "outputs": [],
   "source": []
  },
  {
   "cell_type": "code",
   "execution_count": null,
   "metadata": {
    "collapsed": true
   },
   "outputs": [],
   "source": []
  },
  {
   "cell_type": "code",
   "execution_count": null,
   "metadata": {
    "collapsed": true
   },
   "outputs": [],
   "source": []
  },
  {
   "cell_type": "code",
   "execution_count": null,
   "metadata": {
    "collapsed": true
   },
   "outputs": [],
   "source": []
  },
  {
   "cell_type": "code",
   "execution_count": null,
   "metadata": {
    "collapsed": true
   },
   "outputs": [],
   "source": []
  },
  {
   "cell_type": "code",
   "execution_count": null,
   "metadata": {
    "collapsed": true
   },
   "outputs": [],
   "source": []
  }
 ],
 "metadata": {
  "kernelspec": {
   "display_name": "Python 3",
   "language": "python",
   "name": "python3"
  },
  "language_info": {
   "codemirror_mode": {
    "name": "ipython",
    "version": 3
   },
   "file_extension": ".py",
   "mimetype": "text/x-python",
   "name": "python",
   "nbconvert_exporter": "python",
   "pygments_lexer": "ipython3",
   "version": "3.5.4"
  }
 },
 "nbformat": 4,
 "nbformat_minor": 2
}
