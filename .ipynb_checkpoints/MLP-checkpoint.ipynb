{
 "cells": [
  {
   "cell_type": "markdown",
   "metadata": {},
   "source": [
    "<h1><center>Proiect IC2</center></h1>\n"
   ]
  },
  {
   "cell_type": "markdown",
   "metadata": {},
   "source": [
    "#### Studenti:"
   ]
  },
  {
   "cell_type": "markdown",
   "metadata": {},
   "source": [
    "###  Mihai Lacusteanu"
   ]
  },
  {
   "cell_type": "markdown",
   "metadata": {},
   "source": [
    "### Alexandru-Florian Ion "
   ]
  },
  {
   "cell_type": "markdown",
   "metadata": {},
   "source": [
    " "
   ]
  },
  {
   "cell_type": "markdown",
   "metadata": {},
   "source": [
    " "
   ]
  },
  {
   "cell_type": "markdown",
   "metadata": {},
   "source": [
    "#### Profesor: "
   ]
  },
  {
   "cell_type": "markdown",
   "metadata": {},
   "source": [
    "### Victor-Emil Neagoe"
   ]
  },
  {
   "cell_type": "markdown",
   "metadata": {},
   "source": [
    " "
   ]
  },
  {
   "cell_type": "markdown",
   "metadata": {},
   "source": [
    " "
   ]
  },
  {
   "cell_type": "markdown",
   "metadata": {},
   "source": [
    " "
   ]
  },
  {
   "cell_type": "markdown",
   "metadata": {},
   "source": [
    " "
   ]
  },
  {
   "cell_type": "markdown",
   "metadata": {},
   "source": [
    "### Importare biblioteci necesare"
   ]
  },
  {
   "cell_type": "code",
   "execution_count": 6,
   "metadata": {
    "collapsed": true
   },
   "outputs": [],
   "source": [
    "from __future__ import print_function\n",
    "\n",
    "import keras\n",
    "from keras.datasets import mnist\n",
    "from keras.models import Sequential\n",
    "from keras.layers import Dense, Dropout\n",
    "from keras.optimizers import RMSprop"
   ]
  },
  {
   "cell_type": "markdown",
   "metadata": {},
   "source": [
    "### Impartirea datelor(citire date din bibloteci python)"
   ]
  },
  {
   "cell_type": "code",
   "execution_count": 7,
   "metadata": {
    "collapsed": true
   },
   "outputs": [],
   "source": [
    "(x_train, y_train), (x_test, y_test) = mnist.load_data()"
   ]
  },
  {
   "cell_type": "markdown",
   "metadata": {},
   "source": [
    "### Datele rularii antrenarii"
   ]
  },
  {
   "cell_type": "code",
   "execution_count": 8,
   "metadata": {
    "collapsed": true
   },
   "outputs": [],
   "source": [
    "batch_size = 128 # cu cat este mai mare cu atat este mai reprezentativ pentru setul de date\n",
    "                 # dar durata unei epoci creste odata cu cresterea acestei marimi\n",
    "    \n",
    "    \n",
    "num_classes = 10 # dat de cele 10 cifre pe care dorim sa le clasificam\n",
    "\n",
    "epochs = 100     # ales de la exemplul cu MLP + PCA\n",
    "                 # pentru a vedea comparatia intre antrenare cu MLP + PCA si MLP\n",
    "                 "
   ]
  },
  {
   "cell_type": "markdown",
   "metadata": {},
   "source": [
    "### Prelucrarea datelor pentru a putea fi introduse in reteaua MLP"
   ]
  },
  {
   "cell_type": "code",
   "execution_count": 9,
   "metadata": {
    "collapsed": true
   },
   "outputs": [],
   "source": [
    "x_train = x_train.reshape(60000, 784)\n",
    "x_test = x_test.reshape(10000, 784)\n",
    "x_train = x_train.astype('float32')\n",
    "x_test = x_test.astype('float32')\n",
    "x_train /= 255\n",
    "x_test /= 255\n",
    "\n",
    "\n",
    "# conversia catre matrici binare\n",
    "y_train = keras.utils.to_categorical(y_train, num_classes)\n",
    "y_test = keras.utils.to_categorical(y_test, num_classes)"
   ]
  },
  {
   "cell_type": "markdown",
   "metadata": {},
   "source": [
    "### Creare retea MLP"
   ]
  },
  {
   "cell_type": "code",
   "execution_count": 10,
   "metadata": {},
   "outputs": [
    {
     "name": "stdout",
     "output_type": "stream",
     "text": [
      "60000  date atrenare\n",
      "10000  date de test\n",
      "_________________________________________________________________\n",
      "Layer (type)                 Output Shape              Param #   \n",
      "=================================================================\n",
      "dense_4 (Dense)              (None, 512)               401920    \n",
      "_________________________________________________________________\n",
      "dropout_3 (Dropout)          (None, 512)               0         \n",
      "_________________________________________________________________\n",
      "dense_5 (Dense)              (None, 512)               262656    \n",
      "_________________________________________________________________\n",
      "dropout_4 (Dropout)          (None, 512)               0         \n",
      "_________________________________________________________________\n",
      "dense_6 (Dense)              (None, 10)                5130      \n",
      "=================================================================\n",
      "Total params: 669,706\n",
      "Trainable params: 669,706\n",
      "Non-trainable params: 0\n",
      "_________________________________________________________________\n"
     ]
    }
   ],
   "source": [
    "print(x_train.shape[0], ' date atrenare')\n",
    "print(x_test.shape[0], ' date de test')\n",
    "\n",
    "model = Sequential()\n",
    "model.add(Dense(512, activation='relu', input_shape=(784,)))\n",
    "model.add(Dropout(0.2))\n",
    "model.add(Dense(512, activation='relu'))\n",
    "model.add(Dropout(0.2))\n",
    "model.add(Dense(num_classes, activation='softmax'))\n",
    "\n",
    "model.summary()\n",
    "\n"
   ]
  },
  {
   "cell_type": "markdown",
   "metadata": {},
   "source": [
    "### Antrenare MLP"
   ]
  },
  {
   "cell_type": "code",
   "execution_count": 11,
   "metadata": {},
   "outputs": [
    {
     "name": "stdout",
     "output_type": "stream",
     "text": [
      "Train on 60000 samples, validate on 10000 samples\n",
      "Epoch 1/100\n",
      "60000/60000 [==============================] - 7s 118us/step - loss: 0.2424 - acc: 0.9253 - val_loss: 0.1103 - val_acc: 0.9657\n",
      "Epoch 2/100\n",
      "60000/60000 [==============================] - 7s 118us/step - loss: 0.1024 - acc: 0.9692 - val_loss: 0.0826 - val_acc: 0.9757\n",
      "Epoch 3/100\n",
      "60000/60000 [==============================] - 8s 126us/step - loss: 0.0746 - acc: 0.9775 - val_loss: 0.0827 - val_acc: 0.9762\n",
      "Epoch 4/100\n",
      "60000/60000 [==============================] - 7s 118us/step - loss: 0.0600 - acc: 0.9820 - val_loss: 0.0728 - val_acc: 0.9808\n",
      "Epoch 5/100\n",
      "60000/60000 [==============================] - 8s 126us/step - loss: 0.0508 - acc: 0.9848 - val_loss: 0.0732 - val_acc: 0.9810\n",
      "Epoch 6/100\n",
      "60000/60000 [==============================] - 8s 138us/step - loss: 0.0435 - acc: 0.9872 - val_loss: 0.0754 - val_acc: 0.9813\n",
      "Epoch 7/100\n",
      "60000/60000 [==============================] - 7s 120us/step - loss: 0.0394 - acc: 0.9879 - val_loss: 0.0833 - val_acc: 0.9802\n",
      "Epoch 8/100\n",
      "60000/60000 [==============================] - 7s 122us/step - loss: 0.0356 - acc: 0.9899 - val_loss: 0.0762 - val_acc: 0.9814\n",
      "Epoch 9/100\n",
      "60000/60000 [==============================] - 8s 130us/step - loss: 0.0334 - acc: 0.9907 - val_loss: 0.0935 - val_acc: 0.9804\n",
      "Epoch 10/100\n",
      "60000/60000 [==============================] - 8s 128us/step - loss: 0.0316 - acc: 0.9907 - val_loss: 0.0783 - val_acc: 0.9844\n",
      "Epoch 11/100\n",
      "60000/60000 [==============================] - 8s 132us/step - loss: 0.0285 - acc: 0.9916 - val_loss: 0.0965 - val_acc: 0.9800\n",
      "Epoch 12/100\n",
      "60000/60000 [==============================] - 8s 125us/step - loss: 0.0270 - acc: 0.9929 - val_loss: 0.0974 - val_acc: 0.9834\n",
      "Epoch 13/100\n",
      "60000/60000 [==============================] - 8s 131us/step - loss: 0.0247 - acc: 0.9930 - val_loss: 0.0955 - val_acc: 0.9831\n",
      "Epoch 14/100\n",
      "60000/60000 [==============================] - 8s 133us/step - loss: 0.0243 - acc: 0.9931 - val_loss: 0.1060 - val_acc: 0.9825\n",
      "Epoch 15/100\n",
      "60000/60000 [==============================] - 8s 128us/step - loss: 0.0210 - acc: 0.9940 - val_loss: 0.0954 - val_acc: 0.9838\n",
      "Epoch 16/100\n",
      "60000/60000 [==============================] - 7s 122us/step - loss: 0.0231 - acc: 0.9939 - val_loss: 0.1027 - val_acc: 0.9811\n",
      "Epoch 17/100\n",
      "60000/60000 [==============================] - 7s 119us/step - loss: 0.0206 - acc: 0.9945 - val_loss: 0.0922 - val_acc: 0.9838\n",
      "Epoch 18/100\n",
      "60000/60000 [==============================] - 8s 136us/step - loss: 0.0180 - acc: 0.9950 - val_loss: 0.1119 - val_acc: 0.9813\n",
      "Epoch 19/100\n",
      "60000/60000 [==============================] - 7s 122us/step - loss: 0.0192 - acc: 0.9950 - val_loss: 0.1065 - val_acc: 0.9847\n",
      "Epoch 20/100\n",
      "60000/60000 [==============================] - 7s 116us/step - loss: 0.0170 - acc: 0.9955 - val_loss: 0.1004 - val_acc: 0.9842\n",
      "Epoch 21/100\n",
      "60000/60000 [==============================] - 7s 119us/step - loss: 0.0186 - acc: 0.9955 - val_loss: 0.1102 - val_acc: 0.9837\n",
      "Epoch 22/100\n",
      "60000/60000 [==============================] - 7s 116us/step - loss: 0.0169 - acc: 0.9956 - val_loss: 0.1113 - val_acc: 0.9835\n",
      "Epoch 23/100\n",
      "60000/60000 [==============================] - 7s 124us/step - loss: 0.0167 - acc: 0.9956 - val_loss: 0.1096 - val_acc: 0.9840\n",
      "Epoch 24/100\n",
      "60000/60000 [==============================] - 8s 125us/step - loss: 0.0158 - acc: 0.9960 - val_loss: 0.1266 - val_acc: 0.9815\n",
      "Epoch 25/100\n",
      "60000/60000 [==============================] - 7s 119us/step - loss: 0.0160 - acc: 0.9959 - val_loss: 0.1172 - val_acc: 0.9833\n",
      "Epoch 26/100\n",
      "60000/60000 [==============================] - 9s 145us/step - loss: 0.0164 - acc: 0.9960 - val_loss: 0.1199 - val_acc: 0.9820\n",
      "Epoch 27/100\n",
      "60000/60000 [==============================] - 9s 158us/step - loss: 0.0181 - acc: 0.9958 - val_loss: 0.1424 - val_acc: 0.9811\n",
      "Epoch 28/100\n",
      "60000/60000 [==============================] - 8s 126us/step - loss: 0.0143 - acc: 0.9964 - val_loss: 0.1254 - val_acc: 0.9832\n",
      "Epoch 29/100\n",
      "60000/60000 [==============================] - 7s 120us/step - loss: 0.0139 - acc: 0.9965 - val_loss: 0.1088 - val_acc: 0.9849\n",
      "Epoch 30/100\n",
      "60000/60000 [==============================] - 7s 123us/step - loss: 0.0168 - acc: 0.9962 - val_loss: 0.1168 - val_acc: 0.9836\n",
      "Epoch 31/100\n",
      "60000/60000 [==============================] - 8s 128us/step - loss: 0.0165 - acc: 0.9964 - val_loss: 0.1243 - val_acc: 0.9830\n",
      "Epoch 32/100\n",
      "60000/60000 [==============================] - 7s 124us/step - loss: 0.0166 - acc: 0.9961 - val_loss: 0.1145 - val_acc: 0.9845\n",
      "Epoch 33/100\n",
      "60000/60000 [==============================] - 7s 123us/step - loss: 0.0127 - acc: 0.9972 - val_loss: 0.1440 - val_acc: 0.9822\n",
      "Epoch 34/100\n",
      "60000/60000 [==============================] - 7s 122us/step - loss: 0.0141 - acc: 0.9967 - val_loss: 0.1286 - val_acc: 0.9840\n",
      "Epoch 35/100\n",
      "60000/60000 [==============================] - 9s 154us/step - loss: 0.0150 - acc: 0.9968 - val_loss: 0.1332 - val_acc: 0.9820\n",
      "Epoch 36/100\n",
      "60000/60000 [==============================] - 7s 120us/step - loss: 0.0145 - acc: 0.9965 - val_loss: 0.1273 - val_acc: 0.9833\n",
      "Epoch 37/100\n",
      "60000/60000 [==============================] - 7s 112us/step - loss: 0.0139 - acc: 0.9969 - val_loss: 0.1211 - val_acc: 0.9846\n",
      "Epoch 38/100\n",
      "60000/60000 [==============================] - 6s 104us/step - loss: 0.0143 - acc: 0.9968 - val_loss: 0.1339 - val_acc: 0.9842\n",
      "Epoch 39/100\n",
      "60000/60000 [==============================] - 7s 113us/step - loss: 0.0117 - acc: 0.9977 - val_loss: 0.1138 - val_acc: 0.9863\n",
      "Epoch 40/100\n",
      "60000/60000 [==============================] - 7s 110us/step - loss: 0.0124 - acc: 0.9974 - val_loss: 0.1355 - val_acc: 0.9835\n",
      "Epoch 41/100\n",
      "60000/60000 [==============================] - 7s 110us/step - loss: 0.0147 - acc: 0.9973 - val_loss: 0.1308 - val_acc: 0.9841\n",
      "Epoch 42/100\n",
      "60000/60000 [==============================] - 7s 111us/step - loss: 0.0140 - acc: 0.9969 - val_loss: 0.1299 - val_acc: 0.9847\n",
      "Epoch 43/100\n",
      "60000/60000 [==============================] - 7s 115us/step - loss: 0.0138 - acc: 0.9972 - val_loss: 0.1209 - val_acc: 0.9856\n",
      "Epoch 44/100\n",
      "60000/60000 [==============================] - 7s 112us/step - loss: 0.0116 - acc: 0.9976 - val_loss: 0.1314 - val_acc: 0.9847\n",
      "Epoch 45/100\n",
      "60000/60000 [==============================] - 6s 108us/step - loss: 0.0123 - acc: 0.9974 - val_loss: 0.1268 - val_acc: 0.9841\n",
      "Epoch 46/100\n",
      "60000/60000 [==============================] - 7s 111us/step - loss: 0.0139 - acc: 0.9972 - val_loss: 0.1349 - val_acc: 0.9845\n",
      "Epoch 47/100\n",
      "60000/60000 [==============================] - 7s 113us/step - loss: 0.0118 - acc: 0.9974 - val_loss: 0.1388 - val_acc: 0.9834\n",
      "Epoch 48/100\n",
      "60000/60000 [==============================] - 7s 122us/step - loss: 0.0114 - acc: 0.9977 - val_loss: 0.1316 - val_acc: 0.9841\n",
      "Epoch 49/100\n",
      "60000/60000 [==============================] - 7s 109us/step - loss: 0.0127 - acc: 0.9976 - val_loss: 0.1490 - val_acc: 0.9834\n",
      "Epoch 50/100\n",
      "60000/60000 [==============================] - 7s 117us/step - loss: 0.0119 - acc: 0.9978 - val_loss: 0.1515 - val_acc: 0.9833\n",
      "Epoch 51/100\n",
      "60000/60000 [==============================] - 7s 112us/step - loss: 0.0112 - acc: 0.9977 - val_loss: 0.1491 - val_acc: 0.9842\n",
      "Epoch 52/100\n",
      "60000/60000 [==============================] - 7s 114us/step - loss: 0.0116 - acc: 0.9979 - val_loss: 0.1311 - val_acc: 0.9856\n",
      "Epoch 53/100\n",
      "60000/60000 [==============================] - 7s 113us/step - loss: 0.0127 - acc: 0.9977 - val_loss: 0.1347 - val_acc: 0.9847\n",
      "Epoch 54/100\n",
      "60000/60000 [==============================] - 7s 112us/step - loss: 0.0112 - acc: 0.9979 - val_loss: 0.1387 - val_acc: 0.9835\n",
      "Epoch 55/100\n",
      "60000/60000 [==============================] - 6s 108us/step - loss: 0.0127 - acc: 0.9977 - val_loss: 0.1449 - val_acc: 0.9839\n",
      "Epoch 56/100\n",
      "60000/60000 [==============================] - 8s 130us/step - loss: 0.0120 - acc: 0.9976 - val_loss: 0.1324 - val_acc: 0.9843\n",
      "Epoch 57/100\n",
      "60000/60000 [==============================] - 7s 123us/step - loss: 0.0105 - acc: 0.9977 - val_loss: 0.1449 - val_acc: 0.9830\n",
      "Epoch 58/100\n",
      "60000/60000 [==============================] - 7s 110us/step - loss: 0.0130 - acc: 0.9977 - val_loss: 0.1396 - val_acc: 0.9850\n",
      "Epoch 59/100\n",
      "60000/60000 [==============================] - 7s 110us/step - loss: 0.0129 - acc: 0.9976 - val_loss: 0.1561 - val_acc: 0.9835\n",
      "Epoch 60/100\n",
      "60000/60000 [==============================] - 7s 111us/step - loss: 0.0105 - acc: 0.9978 - val_loss: 0.1454 - val_acc: 0.9839\n",
      "Epoch 61/100\n",
      "60000/60000 [==============================] - 7s 112us/step - loss: 0.0112 - acc: 0.9982 - val_loss: 0.1387 - val_acc: 0.9839\n",
      "Epoch 62/100\n",
      "60000/60000 [==============================] - 7s 112us/step - loss: 0.0124 - acc: 0.9975 - val_loss: 0.1380 - val_acc: 0.9834\n",
      "Epoch 63/100\n",
      "60000/60000 [==============================] - 7s 111us/step - loss: 0.0125 - acc: 0.9978 - val_loss: 0.1409 - val_acc: 0.9843\n",
      "Epoch 64/100\n",
      "60000/60000 [==============================] - 7s 114us/step - loss: 0.0118 - acc: 0.9978 - val_loss: 0.1489 - val_acc: 0.9839\n",
      "Epoch 65/100\n",
      "60000/60000 [==============================] - 7s 115us/step - loss: 0.0123 - acc: 0.9979 - val_loss: 0.1519 - val_acc: 0.9841\n",
      "Epoch 66/100\n",
      "60000/60000 [==============================] - 7s 117us/step - loss: 0.0129 - acc: 0.9979 - val_loss: 0.1512 - val_acc: 0.9838\n",
      "Epoch 67/100\n",
      "60000/60000 [==============================] - 7s 110us/step - loss: 0.0116 - acc: 0.9980 - val_loss: 0.1598 - val_acc: 0.9834\n",
      "Epoch 68/100\n",
      "60000/60000 [==============================] - 6s 108us/step - loss: 0.0142 - acc: 0.9976 - val_loss: 0.1556 - val_acc: 0.9837\n",
      "Epoch 69/100\n",
      "60000/60000 [==============================] - 7s 114us/step - loss: 0.0107 - acc: 0.9983 - val_loss: 0.1481 - val_acc: 0.9845\n",
      "Epoch 70/100\n",
      "60000/60000 [==============================] - 7s 123us/step - loss: 0.0109 - acc: 0.9980 - val_loss: 0.1586 - val_acc: 0.9832\n",
      "Epoch 71/100\n",
      "60000/60000 [==============================] - 8s 132us/step - loss: 0.0135 - acc: 0.9979 - val_loss: 0.1534 - val_acc: 0.9833\n",
      "Epoch 72/100\n",
      "60000/60000 [==============================] - 8s 129us/step - loss: 0.0112 - acc: 0.9978 - val_loss: 0.1539 - val_acc: 0.9837\n",
      "Epoch 73/100\n",
      "60000/60000 [==============================] - 7s 122us/step - loss: 0.0116 - acc: 0.9982 - val_loss: 0.1580 - val_acc: 0.9837\n",
      "Epoch 74/100\n",
      "60000/60000 [==============================] - 8s 127us/step - loss: 0.0105 - acc: 0.9980 - val_loss: 0.1639 - val_acc: 0.9832\n",
      "Epoch 75/100\n",
      "60000/60000 [==============================] - 8s 134us/step - loss: 0.0107 - acc: 0.9983 - val_loss: 0.1671 - val_acc: 0.9840\n",
      "Epoch 76/100\n",
      "60000/60000 [==============================] - 7s 124us/step - loss: 0.0130 - acc: 0.9979 - val_loss: 0.1482 - val_acc: 0.9848\n",
      "Epoch 77/100\n",
      "60000/60000 [==============================] - 7s 123us/step - loss: 0.0112 - acc: 0.9981 - val_loss: 0.1587 - val_acc: 0.9844\n",
      "Epoch 78/100\n",
      "60000/60000 [==============================] - 8s 131us/step - loss: 0.0146 - acc: 0.9978 - val_loss: 0.1620 - val_acc: 0.9837\n",
      "Epoch 79/100\n",
      "60000/60000 [==============================] - 9s 142us/step - loss: 0.0099 - acc: 0.9983 - val_loss: 0.1545 - val_acc: 0.9847\n",
      "Epoch 80/100\n",
      "60000/60000 [==============================] - 10s 162us/step - loss: 0.0104 - acc: 0.9982 - val_loss: 0.1554 - val_acc: 0.9845\n",
      "Epoch 81/100\n",
      "60000/60000 [==============================] - 11s 186us/step - loss: 0.0118 - acc: 0.9980 - val_loss: 0.1499 - val_acc: 0.9850\n",
      "Epoch 82/100\n",
      "60000/60000 [==============================] - 8s 129us/step - loss: 0.0093 - acc: 0.9983 - val_loss: 0.1572 - val_acc: 0.9853\n",
      "Epoch 83/100\n",
      "60000/60000 [==============================] - 7s 117us/step - loss: 0.0120 - acc: 0.9981 - val_loss: 0.1735 - val_acc: 0.9832\n",
      "Epoch 84/100\n",
      "60000/60000 [==============================] - 7s 116us/step - loss: 0.0129 - acc: 0.9981 - val_loss: 0.1603 - val_acc: 0.9847\n",
      "Epoch 85/100\n",
      "60000/60000 [==============================] - 8s 127us/step - loss: 0.0100 - acc: 0.9981 - val_loss: 0.1496 - val_acc: 0.9857\n",
      "Epoch 86/100\n",
      "60000/60000 [==============================] - 8s 129us/step - loss: 0.0094 - acc: 0.9984 - val_loss: 0.1724 - val_acc: 0.9833\n",
      "Epoch 87/100\n",
      "60000/60000 [==============================] - 7s 118us/step - loss: 0.0116 - acc: 0.9982 - val_loss: 0.1538 - val_acc: 0.9849\n",
      "Epoch 88/100\n",
      "60000/60000 [==============================] - 8s 131us/step - loss: 0.0103 - acc: 0.9983 - val_loss: 0.1576 - val_acc: 0.9841\n",
      "Epoch 89/100\n",
      "60000/60000 [==============================] - 8s 129us/step - loss: 0.0123 - acc: 0.9981 - val_loss: 0.1549 - val_acc: 0.9849\n",
      "Epoch 90/100\n",
      "60000/60000 [==============================] - 7s 122us/step - loss: 0.0095 - acc: 0.9984 - val_loss: 0.1562 - val_acc: 0.9846\n",
      "Epoch 91/100\n",
      "60000/60000 [==============================] - 7s 116us/step - loss: 0.0110 - acc: 0.9982 - val_loss: 0.1629 - val_acc: 0.9840\n",
      "Epoch 92/100\n",
      "60000/60000 [==============================] - 7s 116us/step - loss: 0.0110 - acc: 0.9984 - val_loss: 0.1508 - val_acc: 0.9850\n",
      "Epoch 93/100\n",
      "60000/60000 [==============================] - 7s 120us/step - loss: 0.0098 - acc: 0.9983 - val_loss: 0.1460 - val_acc: 0.9862\n",
      "Epoch 94/100\n",
      "60000/60000 [==============================] - 7s 112us/step - loss: 0.0112 - acc: 0.9980 - val_loss: 0.1679 - val_acc: 0.9837\n",
      "Epoch 95/100\n",
      "60000/60000 [==============================] - 7s 115us/step - loss: 0.0084 - acc: 0.9985 - val_loss: 0.1477 - val_acc: 0.9848\n",
      "Epoch 96/100\n",
      "60000/60000 [==============================] - 8s 142us/step - loss: 0.0085 - acc: 0.9986 - val_loss: 0.1435 - val_acc: 0.9856\n",
      "Epoch 97/100\n",
      "60000/60000 [==============================] - 8s 126us/step - loss: 0.0095 - acc: 0.9983 - val_loss: 0.1495 - val_acc: 0.9862\n",
      "Epoch 98/100\n",
      "60000/60000 [==============================] - 7s 118us/step - loss: 0.0107 - acc: 0.9984 - val_loss: 0.1571 - val_acc: 0.9855\n",
      "Epoch 99/100\n",
      "60000/60000 [==============================] - 7s 111us/step - loss: 0.0100 - acc: 0.9986 - val_loss: 0.1539 - val_acc: 0.9855\n",
      "Epoch 100/100\n",
      "60000/60000 [==============================] - 7s 122us/step - loss: 0.0107 - acc: 0.9982 - val_loss: 0.1612 - val_acc: 0.9853\n"
     ]
    }
   ],
   "source": [
    "epochs = 100\n",
    "model.compile(loss='categorical_crossentropy',\n",
    "              optimizer=RMSprop(),\n",
    "              metrics=['accuracy'])\n",
    "\n",
    "history = model.fit(x_train, y_train,\n",
    "                    batch_size=batch_size,\n",
    "                    epochs=epochs,\n",
    "                    verbose=1,\n",
    "                    validation_data=(x_test, y_test))\n",
    "score = model.evaluate(x_test, y_test, verbose=0)\n"
   ]
  },
  {
   "cell_type": "code",
   "execution_count": 12,
   "metadata": {},
   "outputs": [
    {
     "name": "stdout",
     "output_type": "stream",
     "text": [
      "Functia cost: 0.16124579181634507\n",
      "Acuratete : 0.9853\n"
     ]
    }
   ],
   "source": [
    "print('Functia cost:', score[0])\n",
    "print('Acuratete :', score[1])"
   ]
  },
  {
   "cell_type": "code",
   "execution_count": null,
   "metadata": {
    "collapsed": true
   },
   "outputs": [],
   "source": []
  },
  {
   "cell_type": "code",
   "execution_count": null,
   "metadata": {
    "collapsed": true
   },
   "outputs": [],
   "source": []
  }
 ],
 "metadata": {
  "kernelspec": {
   "display_name": "Python 3",
   "language": "python",
   "name": "python3"
  },
  "language_info": {
   "codemirror_mode": {
    "name": "ipython",
    "version": 3
   },
   "file_extension": ".py",
   "mimetype": "text/x-python",
   "name": "python",
   "nbconvert_exporter": "python",
   "pygments_lexer": "ipython3",
   "version": "3.5.4"
  }
 },
 "nbformat": 4,
 "nbformat_minor": 2
}
